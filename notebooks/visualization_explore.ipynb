{
 "metadata": {
  "language_info": {
   "codemirror_mode": {
    "name": "ipython",
    "version": 3
   },
   "file_extension": ".py",
   "mimetype": "text/x-python",
   "name": "python",
   "nbconvert_exporter": "python",
   "pygments_lexer": "ipython3",
   "version": "3.6.13"
  },
  "orig_nbformat": 2,
  "kernelspec": {
   "name": "python3613jvsc74a57bd0c446f6aef876dd571a1952a54800bfdf00c38847d9e5a1717373ac094687b1c7",
   "display_name": "Python 3.6.13 64-bit ('datajoint': conda)"
  }
 },
 "nbformat": 4,
 "nbformat_minor": 2,
 "cells": [
  {
   "cell_type": "code",
   "execution_count": 1,
   "metadata": {},
   "outputs": [],
   "source": [
    "import numpy as np\n",
    "import pandas as np\n",
    "import pickle\n",
    "\n",
    "import plotly.graph_objects as go"
   ]
  },
  {
   "cell_type": "code",
   "execution_count": 3,
   "metadata": {},
   "outputs": [
    {
     "output_type": "execute_result",
     "data": {
      "text/plain": [
       "16"
      ]
     },
     "metadata": {},
     "execution_count": 3
    }
   ],
   "source": [
    "with open(\"../pipeline/data/ret1_data.pkl\", \"rb\") as file:\n",
    "    ret_data = pickle.load(file)\n",
    "len(ret_data)"
   ]
  },
  {
   "cell_type": "code",
   "execution_count": 155,
   "metadata": {},
   "outputs": [
    {
     "output_type": "stream",
     "name": "stdout",
     "text": [
      "---------------------------------------\nSubject Name: KO (chx10)\nSample Number: 1\nSession Date: 2008-06-06\n-------------------\nStimulation screen size/px: 640*480\nBlock size/px: 1*480\nPixel size on retina: 8.3\nMovie shape/blocks: (640, 1, 3823), n_frames: 3823, FPS: 59.9815, so movie time is 63.7363\nOnset of the stimulus from the beginning of the recording session in seconds: 1.65657\nTotal recording time should be stimulus_onset+movie_time: 65.3929 ?\nSpikes detected at how many seconds from the beginning of the recording: \n(32, 1)\n(109, 1)\n(168, 1)\n(245, 1)\n-------------------\n---------------------------------------\nSubject Name: KO (chx10)\nSample Number: 2\nSession Date: 2008-06-06\n-------------------\nStimulation screen size/px: 640*480\nBlock size/px: 640*1\nPixel size on retina: 8.3\nMovie shape/blocks: (1, 480, 4377), n_frames: 4377, FPS: 59.9815, so movie time is 72.9725\nOnset of the stimulus from the beginning of the recording session in seconds: 1.77267\nTotal recording time should be stimulus_onset+movie_time: 74.7452 ?\nSpikes detected at how many seconds from the beginning of the recording: \n(34, 1)\n(122, 1)\n(513, 1)\n(258, 1)\n(311, 1)\n(138, 1)\n-------------------\n---------------------------------------\nSubject Name: KO (chx10)\nSample Number: 3\nSession Date: 2008-06-06\n-------------------\nStimulation screen size/px: 640*480\nBlock size/px: 10*10\nPixel size on retina: 8.3\nMovie shape/blocks: (64, 48, 4241), n_frames: 4241, FPS: 59.9815, so movie time is 70.7051\nOnset of the stimulus from the beginning of the recording session in seconds: 1.00227\nTotal recording time should be stimulus_onset+movie_time: 71.7074 ?\nSpikes detected at how many seconds from the beginning of the recording: \n(491, 1)\n-------------------\n---------------------------------------\nSubject Name: KO (chx10)\nSample Number: 2\nSession Date: 2008-06-24\n-------------------\nStimulation screen size/px: 640*300\nBlock size/px: 10*10\nPixel size on retina: 8.3\nMovie shape/blocks: (64, 30, 4125), n_frames: 4125, FPS: 59.9815, so movie time is 68.7712\nOnset of the stimulus from the beginning of the recording session in seconds: 1.22127\nTotal recording time should be stimulus_onset+movie_time: 69.9925 ?\nSpikes detected at how many seconds from the beginning of the recording: \n(1322, 1)\n(298, 1)\n(203, 1)\n(750, 1)\n(611, 1)\n(240, 1)\n(256, 1)\n(670, 1)\n(1213, 1)\n(696, 1)\n(171, 1)\n(734, 1)\n(349, 1)\n(557, 1)\n(430, 1)\n(503, 1)\n(1336, 1)\n(171, 1)\n(794, 1)\n(553, 1)\n(757, 1)\n(387, 1)\n(1659, 1)\n(698, 1)\n(1135, 1)\n(25, 1)\n-------------------\n---------------------------------------\nSubject Name: KO (chx10)\nSample Number: 3\nSession Date: 2008-06-24\n-------------------\nStimulation screen size/px: 640*480\nBlock size/px: 5*480\nPixel size on retina: 8.3\nMovie shape/blocks: (128, 1, 4348), n_frames: 4348, FPS: 59.9816, so movie time is 72.4889\nOnset of the stimulus from the beginning of the recording session in seconds: 1.05317\nTotal recording time should be stimulus_onset+movie_time: 73.5421 ?\nSpikes detected at how many seconds from the beginning of the recording: \n(145, 1)\n(89, 1)\n(71, 1)\n(369, 1)\n(304, 1)\n(880, 1)\n(462, 1)\n(164, 1)\n(180, 1)\n(215, 1)\n(263, 1)\n(107, 1)\n(293, 1)\n(209, 1)\n(204, 1)\n(261, 1)\n(163, 1)\n(248, 1)\n(689, 1)\n(173, 1)\n(89, 1)\n(176, 1)\n(137, 1)\n(307, 1)\n(36, 1)\n(134, 1)\n(35, 1)\n(18, 1)\n(42, 1)\n(230, 1)\n(154, 1)\n(33, 1)\n(64, 1)\n(108, 1)\n(97, 1)\n(194, 1)\n(219, 1)\n(39, 1)\n-------------------\n---------------------------------------\nSubject Name: KO (chx10)\nSample Number: 4\nSession Date: 2008-07-02\n-------------------\nStimulation screen size/px: 640*480\nBlock size/px: 2*480\nPixel size on retina: 8.3\nMovie shape/blocks: (320, 1, 4156), n_frames: 4156, FPS: 60.005, so movie time is 69.2609\nOnset of the stimulus from the beginning of the recording session in seconds: 1.3066\nTotal recording time should be stimulus_onset+movie_time: 70.5675 ?\nSpikes detected at how many seconds from the beginning of the recording: \n(225, 1)\n(557, 1)\n(431, 1)\n(534, 1)\n(858, 1)\n(37, 1)\n(57, 1)\n(25, 1)\n(2157, 1)\n(74, 1)\n(181, 1)\n(436, 1)\n-------------------\nStimulation screen size/px: 640*320\nBlock size/px: 8*8\nPixel size on retina: 8.3\nMovie shape/blocks: (80, 40, 3854), n_frames: 3854, FPS: 29.9908, so movie time is 128.5061\nOnset of the stimulus from the beginning of the recording session in seconds: 1.2634\nTotal recording time should be stimulus_onset+movie_time: 129.7695 ?\nSpikes detected at how many seconds from the beginning of the recording: \n(1267, 1)\n(1675, 1)\n(1581, 1)\n(1498, 1)\n(2075, 1)\n(465, 1)\n(750, 1)\n(279, 1)\n(1645, 1)\n(764, 1)\n(1616, 1)\n(3081, 1)\n-------------------\n---------------------------------------\nSubject Name: KO (pax6)\nSample Number: 1\nSession Date: 2008-05-16\n-------------------\nStimulation screen size/px: 640*480\nBlock size/px: 10*10\nPixel size on retina: 8.3\nMovie shape/blocks: (64, 48, 4325), n_frames: 4325, FPS: 59.9816, so movie time is 72.1054\nOnset of the stimulus from the beginning of the recording session in seconds: 1.2488\nTotal recording time should be stimulus_onset+movie_time: 73.3542 ?\nSpikes detected at how many seconds from the beginning of the recording: \n(2157, 1)\n(435, 1)\n(1577, 1)\n(869, 1)\n(1358, 1)\n(261, 1)\n(1049, 1)\n-------------------\n---------------------------------------\nSubject Name: KO (pax6)\nSample Number: 2\nSession Date: 2008-05-16\n-------------------\nStimulation screen size/px: 640*480\nBlock size/px: 1*480\nPixel size on retina: 8.3\nMovie shape/blocks: (640, 1, 4331), n_frames: 4331, FPS: 59.9816, so movie time is 72.2055\nOnset of the stimulus from the beginning of the recording session in seconds: 1.0617\nTotal recording time should be stimulus_onset+movie_time: 73.2672 ?\nSpikes detected at how many seconds from the beginning of the recording: \n(335, 1)\n(446, 1)\n(361, 1)\n(841, 1)\n(70, 1)\n(175, 1)\n(89, 1)\n(254, 1)\n(147, 1)\n(709, 1)\n(181, 1)\n(340, 1)\n(281, 1)\n(216, 1)\n(70, 1)\n(293, 1)\n(275, 1)\n(146, 1)\n(235, 1)\n(76, 1)\n(2, 1)\n(197, 1)\n(715, 1)\n(989, 1)\n(597, 1)\n(141, 1)\n(609, 1)\n(1717, 1)\n(24, 1)\n(1011, 1)\n(825, 1)\n(368, 1)\n(2123, 1)\n(506, 1)\n-------------------\n---------------------------------------\nSubject Name: KO (pax6)\nSample Number: 2\nSession Date: 2008-06-28\n-------------------\n---------------------------------------\nSubject Name: KO (pax6)\nSample Number: 3\nSession Date: 2008-06-28\n-------------------\n---------------------------------------\nSubject Name: KO bax -/- (chx10)\nSample Number: 1\nSession Date: 2008-07-02\n-------------------\n---------------------------------------\nSubject Name: WT (chx10 het)\nSample Number: 1\nSession Date: 2008-06-24\n-------------------\nStimulation screen size/px: 640*480\nBlock size/px: 640*2\nPixel size on retina: 8.3\nMovie shape/blocks: (1, 240, 3938), n_frames: 3938, FPS: 59.9815, so movie time is 65.6536\nOnset of the stimulus from the beginning of the recording session in seconds: 6.65177\nTotal recording time should be stimulus_onset+movie_time: 72.3053 ?\nSpikes detected at how many seconds from the beginning of the recording: \n(686, 1)\n(1835, 1)\n(310, 1)\n(1379, 1)\n(591, 1)\n(1007, 1)\n(1451, 1)\n(3, 1)\n(1758, 1)\n(926, 1)\n(1721, 1)\n(68, 1)\n(837, 1)\n(1646, 1)\n(103, 1)\n(131, 1)\n(1662, 1)\n(654, 1)\n(1491, 1)\n(197, 1)\n(815, 1)\n(927, 1)\n(564, 1)\n(778, 1)\n(1112, 1)\n(404, 1)\n(768, 1)\n(2202, 1)\n(389, 1)\n(1153, 1)\n(857, 1)\n(810, 1)\n(284, 1)\n(1220, 1)\n(546, 1)\n(208, 1)\n(1122, 1)\n-------------------\n---------------------------------------\nSubject Name: WT (chx10 het)\nSample Number: 4\nSession Date: 2008-06-28\n-------------------\n---------------------------------------\nSubject Name: WT (chx10 het)\nSample Number: 5\nSession Date: 2008-06-28\n-------------------\n---------------------------------------\nSubject Name: WT (pax6 het)\nSample Number: 6\nSession Date: 2008-06-28\n-------------------\n---------------------------------------\nSubject Name: WT (pax6 het)\nSample Number: 7\nSession Date: 2008-06-28\n-------------------\n"
     ]
    }
   ],
   "source": [
    "for session in ret_data:\n",
    "    print('---------------------------------------')\n",
    "    print('Subject Name:', session['subject_name'])\n",
    "    print('Sample Number:', session['sample_number'])\n",
    "    print('Session Date:', session['session_date'])\n",
    "    print('-------------------')\n",
    "    for stimulation_example in session['stimulations']:\n",
    "        print(\"Stimulation screen size/px: {}*{}\".format(stimulation_example['stim_width'], stimulation_example['stim_height']))\n",
    "        print(\"Block size/px: {}*{}\".format(stimulation_example['x_block_size'], stimulation_example['y_block_size']))\n",
    "        print(\"Pixel size on retina: {}\".format(stimulation_example['pixel_size']))\n",
    "        print(\"Movie shape/blocks: {}, n_frames: {}, FPS: {}, so movie time is {}\".format(stimulation_example['movie'].shape, stimulation_example['n_frames'], stimulation_example['fps'], round(stimulation_example['n_frames']/stimulation_example['fps'], 4)))\n",
    "        print(\"Onset of the stimulus from the beginning of the recording session in seconds: {}\".format(stimulation_example['stimulus_onset']))\n",
    "        print(\"Total recording time should be stimulus_onset+movie_time: {} ?\".format(round(stimulation_example['n_frames']/stimulation_example['fps']+stimulation_example['stimulus_onset'], 4)))\n",
    "        print(\"Spikes detected at how many seconds from the beginning of the recording: \")\n",
    "        for spike in stimulation_example['spikes']:\n",
    "            print(spike.shape)\n",
    "        print('-------------------')"
   ]
  },
  {
   "source": [
    "---"
   ],
   "cell_type": "markdown",
   "metadata": {}
  },
  {
   "cell_type": "code",
   "execution_count": 129,
   "metadata": {},
   "outputs": [],
   "source": [
    "example_session_idx = 0\n",
    "example_stimulation_idx = 0\n",
    "example_spike_idx = 0\n",
    "example_stimulation = ret_data[example_session_idx]['stimulations'][example_stimulation_idx]\n",
    "example_movie = ret_data[example_session_idx]['stimulations'][example_stimulation_idx]['movie']\n",
    "example_one_spike = ret_data[example_session_idx]['stimulations'][example_stimulation_idx]['spikes'][example_spike_idx]"
   ]
  },
  {
   "cell_type": "code",
   "execution_count": 130,
   "metadata": {},
   "outputs": [
    {
     "output_type": "stream",
     "name": "stdout",
     "text": [
      "[[ 0.81173]\n [ 0.91613]\n [ 0.95223]\n [ 8.39093]\n [15.82923]\n [15.94713]\n [15.96413]\n [17.44103]\n [17.54333]\n [22.63513]\n [27.89813]\n [27.91583]\n [27.94113]\n [32.10933]\n [35.38433]\n [36.11703]\n [38.31923]\n [38.45053]\n [40.29323]\n [41.40563]\n [43.36593]\n [45.45663]\n [46.94743]\n [48.68003]\n [48.79613]\n [50.07353]\n [57.20043]\n [59.90423]\n [62.05353]\n [62.11023]\n [62.19103]\n [63.27753]]\n"
     ]
    }
   ],
   "source": [
    "# Get spike detected time vs movie playing time = each spike detected time - stimulus onset\n",
    "spike_time_movie_time = example_one_spike-example_stimulation['stimulus_onset']\n",
    "print(spike_time_movie_time)"
   ]
  },
  {
   "cell_type": "code",
   "execution_count": 131,
   "metadata": {},
   "outputs": [
    {
     "output_type": "display_data",
     "data": {
      "application/vnd.plotly.v1+json": {
       "config": {
        "plotlyServerURL": "https://plot.ly"
       },
       "data": [
        {
         "hovertemplate": "Spike is detected at %{x:.4f} seconds <br>when movie starts to play",
         "marker": {
          "size": 3
         },
         "mode": "markers",
         "name": "Spike Detection",
         "type": "scatter",
         "x": [
          0.8117300000000001,
          0.9161300000000001,
          0.9522299999999999,
          8.390929999999999,
          15.82923,
          15.94713,
          15.964129999999999,
          17.44103,
          17.54333,
          22.63513,
          27.898130000000002,
          27.91583,
          27.94113,
          32.10933,
          35.38433,
          36.11703,
          38.31923,
          38.45053,
          40.29323,
          41.405629999999995,
          43.36593,
          45.45663,
          46.94743,
          48.680029999999995,
          48.79613,
          50.07353,
          57.20043,
          59.90423,
          62.053529999999995,
          62.11023,
          62.19103,
          63.27753
         ],
         "y": [
          1,
          1,
          1,
          1,
          1,
          1,
          1,
          1,
          1,
          1,
          1,
          1,
          1,
          1,
          1,
          1,
          1,
          1,
          1,
          1,
          1,
          1,
          1,
          1,
          1,
          1,
          1,
          1,
          1,
          1,
          1,
          1
         ]
        }
       ],
       "layout": {
        "showlegend": true,
        "template": {
         "data": {
          "bar": [
           {
            "error_x": {
             "color": "#2a3f5f"
            },
            "error_y": {
             "color": "#2a3f5f"
            },
            "marker": {
             "line": {
              "color": "#E5ECF6",
              "width": 0.5
             }
            },
            "type": "bar"
           }
          ],
          "barpolar": [
           {
            "marker": {
             "line": {
              "color": "#E5ECF6",
              "width": 0.5
             }
            },
            "type": "barpolar"
           }
          ],
          "carpet": [
           {
            "aaxis": {
             "endlinecolor": "#2a3f5f",
             "gridcolor": "white",
             "linecolor": "white",
             "minorgridcolor": "white",
             "startlinecolor": "#2a3f5f"
            },
            "baxis": {
             "endlinecolor": "#2a3f5f",
             "gridcolor": "white",
             "linecolor": "white",
             "minorgridcolor": "white",
             "startlinecolor": "#2a3f5f"
            },
            "type": "carpet"
           }
          ],
          "choropleth": [
           {
            "colorbar": {
             "outlinewidth": 0,
             "ticks": ""
            },
            "type": "choropleth"
           }
          ],
          "contour": [
           {
            "colorbar": {
             "outlinewidth": 0,
             "ticks": ""
            },
            "colorscale": [
             [
              0,
              "#0d0887"
             ],
             [
              0.1111111111111111,
              "#46039f"
             ],
             [
              0.2222222222222222,
              "#7201a8"
             ],
             [
              0.3333333333333333,
              "#9c179e"
             ],
             [
              0.4444444444444444,
              "#bd3786"
             ],
             [
              0.5555555555555556,
              "#d8576b"
             ],
             [
              0.6666666666666666,
              "#ed7953"
             ],
             [
              0.7777777777777778,
              "#fb9f3a"
             ],
             [
              0.8888888888888888,
              "#fdca26"
             ],
             [
              1,
              "#f0f921"
             ]
            ],
            "type": "contour"
           }
          ],
          "contourcarpet": [
           {
            "colorbar": {
             "outlinewidth": 0,
             "ticks": ""
            },
            "type": "contourcarpet"
           }
          ],
          "heatmap": [
           {
            "colorbar": {
             "outlinewidth": 0,
             "ticks": ""
            },
            "colorscale": [
             [
              0,
              "#0d0887"
             ],
             [
              0.1111111111111111,
              "#46039f"
             ],
             [
              0.2222222222222222,
              "#7201a8"
             ],
             [
              0.3333333333333333,
              "#9c179e"
             ],
             [
              0.4444444444444444,
              "#bd3786"
             ],
             [
              0.5555555555555556,
              "#d8576b"
             ],
             [
              0.6666666666666666,
              "#ed7953"
             ],
             [
              0.7777777777777778,
              "#fb9f3a"
             ],
             [
              0.8888888888888888,
              "#fdca26"
             ],
             [
              1,
              "#f0f921"
             ]
            ],
            "type": "heatmap"
           }
          ],
          "heatmapgl": [
           {
            "colorbar": {
             "outlinewidth": 0,
             "ticks": ""
            },
            "colorscale": [
             [
              0,
              "#0d0887"
             ],
             [
              0.1111111111111111,
              "#46039f"
             ],
             [
              0.2222222222222222,
              "#7201a8"
             ],
             [
              0.3333333333333333,
              "#9c179e"
             ],
             [
              0.4444444444444444,
              "#bd3786"
             ],
             [
              0.5555555555555556,
              "#d8576b"
             ],
             [
              0.6666666666666666,
              "#ed7953"
             ],
             [
              0.7777777777777778,
              "#fb9f3a"
             ],
             [
              0.8888888888888888,
              "#fdca26"
             ],
             [
              1,
              "#f0f921"
             ]
            ],
            "type": "heatmapgl"
           }
          ],
          "histogram": [
           {
            "marker": {
             "colorbar": {
              "outlinewidth": 0,
              "ticks": ""
             }
            },
            "type": "histogram"
           }
          ],
          "histogram2d": [
           {
            "colorbar": {
             "outlinewidth": 0,
             "ticks": ""
            },
            "colorscale": [
             [
              0,
              "#0d0887"
             ],
             [
              0.1111111111111111,
              "#46039f"
             ],
             [
              0.2222222222222222,
              "#7201a8"
             ],
             [
              0.3333333333333333,
              "#9c179e"
             ],
             [
              0.4444444444444444,
              "#bd3786"
             ],
             [
              0.5555555555555556,
              "#d8576b"
             ],
             [
              0.6666666666666666,
              "#ed7953"
             ],
             [
              0.7777777777777778,
              "#fb9f3a"
             ],
             [
              0.8888888888888888,
              "#fdca26"
             ],
             [
              1,
              "#f0f921"
             ]
            ],
            "type": "histogram2d"
           }
          ],
          "histogram2dcontour": [
           {
            "colorbar": {
             "outlinewidth": 0,
             "ticks": ""
            },
            "colorscale": [
             [
              0,
              "#0d0887"
             ],
             [
              0.1111111111111111,
              "#46039f"
             ],
             [
              0.2222222222222222,
              "#7201a8"
             ],
             [
              0.3333333333333333,
              "#9c179e"
             ],
             [
              0.4444444444444444,
              "#bd3786"
             ],
             [
              0.5555555555555556,
              "#d8576b"
             ],
             [
              0.6666666666666666,
              "#ed7953"
             ],
             [
              0.7777777777777778,
              "#fb9f3a"
             ],
             [
              0.8888888888888888,
              "#fdca26"
             ],
             [
              1,
              "#f0f921"
             ]
            ],
            "type": "histogram2dcontour"
           }
          ],
          "mesh3d": [
           {
            "colorbar": {
             "outlinewidth": 0,
             "ticks": ""
            },
            "type": "mesh3d"
           }
          ],
          "parcoords": [
           {
            "line": {
             "colorbar": {
              "outlinewidth": 0,
              "ticks": ""
             }
            },
            "type": "parcoords"
           }
          ],
          "pie": [
           {
            "automargin": true,
            "type": "pie"
           }
          ],
          "scatter": [
           {
            "marker": {
             "colorbar": {
              "outlinewidth": 0,
              "ticks": ""
             }
            },
            "type": "scatter"
           }
          ],
          "scatter3d": [
           {
            "line": {
             "colorbar": {
              "outlinewidth": 0,
              "ticks": ""
             }
            },
            "marker": {
             "colorbar": {
              "outlinewidth": 0,
              "ticks": ""
             }
            },
            "type": "scatter3d"
           }
          ],
          "scattercarpet": [
           {
            "marker": {
             "colorbar": {
              "outlinewidth": 0,
              "ticks": ""
             }
            },
            "type": "scattercarpet"
           }
          ],
          "scattergeo": [
           {
            "marker": {
             "colorbar": {
              "outlinewidth": 0,
              "ticks": ""
             }
            },
            "type": "scattergeo"
           }
          ],
          "scattergl": [
           {
            "marker": {
             "colorbar": {
              "outlinewidth": 0,
              "ticks": ""
             }
            },
            "type": "scattergl"
           }
          ],
          "scattermapbox": [
           {
            "marker": {
             "colorbar": {
              "outlinewidth": 0,
              "ticks": ""
             }
            },
            "type": "scattermapbox"
           }
          ],
          "scatterpolar": [
           {
            "marker": {
             "colorbar": {
              "outlinewidth": 0,
              "ticks": ""
             }
            },
            "type": "scatterpolar"
           }
          ],
          "scatterpolargl": [
           {
            "marker": {
             "colorbar": {
              "outlinewidth": 0,
              "ticks": ""
             }
            },
            "type": "scatterpolargl"
           }
          ],
          "scatterternary": [
           {
            "marker": {
             "colorbar": {
              "outlinewidth": 0,
              "ticks": ""
             }
            },
            "type": "scatterternary"
           }
          ],
          "surface": [
           {
            "colorbar": {
             "outlinewidth": 0,
             "ticks": ""
            },
            "colorscale": [
             [
              0,
              "#0d0887"
             ],
             [
              0.1111111111111111,
              "#46039f"
             ],
             [
              0.2222222222222222,
              "#7201a8"
             ],
             [
              0.3333333333333333,
              "#9c179e"
             ],
             [
              0.4444444444444444,
              "#bd3786"
             ],
             [
              0.5555555555555556,
              "#d8576b"
             ],
             [
              0.6666666666666666,
              "#ed7953"
             ],
             [
              0.7777777777777778,
              "#fb9f3a"
             ],
             [
              0.8888888888888888,
              "#fdca26"
             ],
             [
              1,
              "#f0f921"
             ]
            ],
            "type": "surface"
           }
          ],
          "table": [
           {
            "cells": {
             "fill": {
              "color": "#EBF0F8"
             },
             "line": {
              "color": "white"
             }
            },
            "header": {
             "fill": {
              "color": "#C8D4E3"
             },
             "line": {
              "color": "white"
             }
            },
            "type": "table"
           }
          ]
         },
         "layout": {
          "annotationdefaults": {
           "arrowcolor": "#2a3f5f",
           "arrowhead": 0,
           "arrowwidth": 1
          },
          "autotypenumbers": "strict",
          "coloraxis": {
           "colorbar": {
            "outlinewidth": 0,
            "ticks": ""
           }
          },
          "colorscale": {
           "diverging": [
            [
             0,
             "#8e0152"
            ],
            [
             0.1,
             "#c51b7d"
            ],
            [
             0.2,
             "#de77ae"
            ],
            [
             0.3,
             "#f1b6da"
            ],
            [
             0.4,
             "#fde0ef"
            ],
            [
             0.5,
             "#f7f7f7"
            ],
            [
             0.6,
             "#e6f5d0"
            ],
            [
             0.7,
             "#b8e186"
            ],
            [
             0.8,
             "#7fbc41"
            ],
            [
             0.9,
             "#4d9221"
            ],
            [
             1,
             "#276419"
            ]
           ],
           "sequential": [
            [
             0,
             "#0d0887"
            ],
            [
             0.1111111111111111,
             "#46039f"
            ],
            [
             0.2222222222222222,
             "#7201a8"
            ],
            [
             0.3333333333333333,
             "#9c179e"
            ],
            [
             0.4444444444444444,
             "#bd3786"
            ],
            [
             0.5555555555555556,
             "#d8576b"
            ],
            [
             0.6666666666666666,
             "#ed7953"
            ],
            [
             0.7777777777777778,
             "#fb9f3a"
            ],
            [
             0.8888888888888888,
             "#fdca26"
            ],
            [
             1,
             "#f0f921"
            ]
           ],
           "sequentialminus": [
            [
             0,
             "#0d0887"
            ],
            [
             0.1111111111111111,
             "#46039f"
            ],
            [
             0.2222222222222222,
             "#7201a8"
            ],
            [
             0.3333333333333333,
             "#9c179e"
            ],
            [
             0.4444444444444444,
             "#bd3786"
            ],
            [
             0.5555555555555556,
             "#d8576b"
            ],
            [
             0.6666666666666666,
             "#ed7953"
            ],
            [
             0.7777777777777778,
             "#fb9f3a"
            ],
            [
             0.8888888888888888,
             "#fdca26"
            ],
            [
             1,
             "#f0f921"
            ]
           ]
          },
          "colorway": [
           "#636efa",
           "#EF553B",
           "#00cc96",
           "#ab63fa",
           "#FFA15A",
           "#19d3f3",
           "#FF6692",
           "#B6E880",
           "#FF97FF",
           "#FECB52"
          ],
          "font": {
           "color": "#2a3f5f"
          },
          "geo": {
           "bgcolor": "white",
           "lakecolor": "white",
           "landcolor": "#E5ECF6",
           "showlakes": true,
           "showland": true,
           "subunitcolor": "white"
          },
          "hoverlabel": {
           "align": "left"
          },
          "hovermode": "closest",
          "mapbox": {
           "style": "light"
          },
          "paper_bgcolor": "white",
          "plot_bgcolor": "#E5ECF6",
          "polar": {
           "angularaxis": {
            "gridcolor": "white",
            "linecolor": "white",
            "ticks": ""
           },
           "bgcolor": "#E5ECF6",
           "radialaxis": {
            "gridcolor": "white",
            "linecolor": "white",
            "ticks": ""
           }
          },
          "scene": {
           "xaxis": {
            "backgroundcolor": "#E5ECF6",
            "gridcolor": "white",
            "gridwidth": 2,
            "linecolor": "white",
            "showbackground": true,
            "ticks": "",
            "zerolinecolor": "white"
           },
           "yaxis": {
            "backgroundcolor": "#E5ECF6",
            "gridcolor": "white",
            "gridwidth": 2,
            "linecolor": "white",
            "showbackground": true,
            "ticks": "",
            "zerolinecolor": "white"
           },
           "zaxis": {
            "backgroundcolor": "#E5ECF6",
            "gridcolor": "white",
            "gridwidth": 2,
            "linecolor": "white",
            "showbackground": true,
            "ticks": "",
            "zerolinecolor": "white"
           }
          },
          "shapedefaults": {
           "line": {
            "color": "#2a3f5f"
           }
          },
          "ternary": {
           "aaxis": {
            "gridcolor": "white",
            "linecolor": "white",
            "ticks": ""
           },
           "baxis": {
            "gridcolor": "white",
            "linecolor": "white",
            "ticks": ""
           },
           "bgcolor": "#E5ECF6",
           "caxis": {
            "gridcolor": "white",
            "linecolor": "white",
            "ticks": ""
           }
          },
          "title": {
           "x": 0.05
          },
          "xaxis": {
           "automargin": true,
           "gridcolor": "white",
           "linecolor": "white",
           "ticks": "",
           "title": {
            "standoff": 15
           },
           "zerolinecolor": "white",
           "zerolinewidth": 2
          },
          "yaxis": {
           "automargin": true,
           "gridcolor": "white",
           "linecolor": "white",
           "ticks": "",
           "title": {
            "standoff": 15
           },
           "zerolinecolor": "white",
           "zerolinewidth": 2
          }
         }
        },
        "title": {
         "text": "Spike Detection vs Movie Time (exclude stimulus_onset)"
        },
        "xaxis": {
         "title": {
          "text": "Time/s"
         }
        },
        "yaxis": {
         "title": {
          "text": "Spike Detected Indicator"
         }
        }
       }
      }
     },
     "metadata": {}
    }
   ],
   "source": [
    "fig = go.Figure()\n",
    "fig.add_trace(\n",
    "    go.Scatter(x=list(spike_time_movie_time.flatten()), y=[1]*len(spike_time_movie_time), \n",
    "                mode='markers', marker=dict(size=3), name='Spike Detection',\n",
    "                hovertemplate = 'Spike is detected at %{x:.4f} seconds <br>when movie starts to play',)\n",
    ")\n",
    "fig.update_layout(title='Spike Detection vs Movie Time (exclude stimulus_onset)', xaxis_title='Time/s', yaxis_title='Spike Detected Indicator', showlegend=True)\n",
    "fig.show()"
   ]
  },
  {
   "cell_type": "code",
   "execution_count": 132,
   "metadata": {},
   "outputs": [
    {
     "output_type": "display_data",
     "data": {
      "application/vnd.plotly.v1+json": {
       "config": {
        "plotlyServerURL": "https://plot.ly"
       },
       "data": [
        {
         "hovertemplate": "Spike is detected at %{x:.0f} movie frame",
         "marker": {
          "size": 3
         },
         "mode": "markers",
         "name": "Spike Detection",
         "type": "scatter",
         "x": [
          48.688782995000004,
          54.950851595,
          57.116183744999994,
          503.3005677949999,
          949.460959245,
          956.5327780949999,
          957.552463595,
          1046.139140945,
          1052.275248395,
          1357.6890500949999,
          1673.371684595,
          1674.433357145,
          1675.950889095,
          1925.9657773949998,
          2122.4051898949997,
          2166.353634945,
          2298.444894245,
          2306.320465195,
          2416.848375245,
          2483.5717958449995,
          2601.1535302949997,
          2726.5568523449997,
          2815.977272545,
          2919.9012194449997,
          2926.865071595,
          3003.4854396949995,
          3430.9675920449995,
          3593.145571745,
          3722.0638096949997,
          3725.4647607449997,
          3730.311265945,
          3795.4811656949996
         ],
         "y": [
          1,
          1,
          1,
          1,
          1,
          1,
          1,
          1,
          1,
          1,
          1,
          1,
          1,
          1,
          1,
          1,
          1,
          1,
          1,
          1,
          1,
          1,
          1,
          1,
          1,
          1,
          1,
          1,
          1,
          1,
          1,
          1
         ]
        }
       ],
       "layout": {
        "showlegend": true,
        "template": {
         "data": {
          "bar": [
           {
            "error_x": {
             "color": "#2a3f5f"
            },
            "error_y": {
             "color": "#2a3f5f"
            },
            "marker": {
             "line": {
              "color": "#E5ECF6",
              "width": 0.5
             }
            },
            "type": "bar"
           }
          ],
          "barpolar": [
           {
            "marker": {
             "line": {
              "color": "#E5ECF6",
              "width": 0.5
             }
            },
            "type": "barpolar"
           }
          ],
          "carpet": [
           {
            "aaxis": {
             "endlinecolor": "#2a3f5f",
             "gridcolor": "white",
             "linecolor": "white",
             "minorgridcolor": "white",
             "startlinecolor": "#2a3f5f"
            },
            "baxis": {
             "endlinecolor": "#2a3f5f",
             "gridcolor": "white",
             "linecolor": "white",
             "minorgridcolor": "white",
             "startlinecolor": "#2a3f5f"
            },
            "type": "carpet"
           }
          ],
          "choropleth": [
           {
            "colorbar": {
             "outlinewidth": 0,
             "ticks": ""
            },
            "type": "choropleth"
           }
          ],
          "contour": [
           {
            "colorbar": {
             "outlinewidth": 0,
             "ticks": ""
            },
            "colorscale": [
             [
              0,
              "#0d0887"
             ],
             [
              0.1111111111111111,
              "#46039f"
             ],
             [
              0.2222222222222222,
              "#7201a8"
             ],
             [
              0.3333333333333333,
              "#9c179e"
             ],
             [
              0.4444444444444444,
              "#bd3786"
             ],
             [
              0.5555555555555556,
              "#d8576b"
             ],
             [
              0.6666666666666666,
              "#ed7953"
             ],
             [
              0.7777777777777778,
              "#fb9f3a"
             ],
             [
              0.8888888888888888,
              "#fdca26"
             ],
             [
              1,
              "#f0f921"
             ]
            ],
            "type": "contour"
           }
          ],
          "contourcarpet": [
           {
            "colorbar": {
             "outlinewidth": 0,
             "ticks": ""
            },
            "type": "contourcarpet"
           }
          ],
          "heatmap": [
           {
            "colorbar": {
             "outlinewidth": 0,
             "ticks": ""
            },
            "colorscale": [
             [
              0,
              "#0d0887"
             ],
             [
              0.1111111111111111,
              "#46039f"
             ],
             [
              0.2222222222222222,
              "#7201a8"
             ],
             [
              0.3333333333333333,
              "#9c179e"
             ],
             [
              0.4444444444444444,
              "#bd3786"
             ],
             [
              0.5555555555555556,
              "#d8576b"
             ],
             [
              0.6666666666666666,
              "#ed7953"
             ],
             [
              0.7777777777777778,
              "#fb9f3a"
             ],
             [
              0.8888888888888888,
              "#fdca26"
             ],
             [
              1,
              "#f0f921"
             ]
            ],
            "type": "heatmap"
           }
          ],
          "heatmapgl": [
           {
            "colorbar": {
             "outlinewidth": 0,
             "ticks": ""
            },
            "colorscale": [
             [
              0,
              "#0d0887"
             ],
             [
              0.1111111111111111,
              "#46039f"
             ],
             [
              0.2222222222222222,
              "#7201a8"
             ],
             [
              0.3333333333333333,
              "#9c179e"
             ],
             [
              0.4444444444444444,
              "#bd3786"
             ],
             [
              0.5555555555555556,
              "#d8576b"
             ],
             [
              0.6666666666666666,
              "#ed7953"
             ],
             [
              0.7777777777777778,
              "#fb9f3a"
             ],
             [
              0.8888888888888888,
              "#fdca26"
             ],
             [
              1,
              "#f0f921"
             ]
            ],
            "type": "heatmapgl"
           }
          ],
          "histogram": [
           {
            "marker": {
             "colorbar": {
              "outlinewidth": 0,
              "ticks": ""
             }
            },
            "type": "histogram"
           }
          ],
          "histogram2d": [
           {
            "colorbar": {
             "outlinewidth": 0,
             "ticks": ""
            },
            "colorscale": [
             [
              0,
              "#0d0887"
             ],
             [
              0.1111111111111111,
              "#46039f"
             ],
             [
              0.2222222222222222,
              "#7201a8"
             ],
             [
              0.3333333333333333,
              "#9c179e"
             ],
             [
              0.4444444444444444,
              "#bd3786"
             ],
             [
              0.5555555555555556,
              "#d8576b"
             ],
             [
              0.6666666666666666,
              "#ed7953"
             ],
             [
              0.7777777777777778,
              "#fb9f3a"
             ],
             [
              0.8888888888888888,
              "#fdca26"
             ],
             [
              1,
              "#f0f921"
             ]
            ],
            "type": "histogram2d"
           }
          ],
          "histogram2dcontour": [
           {
            "colorbar": {
             "outlinewidth": 0,
             "ticks": ""
            },
            "colorscale": [
             [
              0,
              "#0d0887"
             ],
             [
              0.1111111111111111,
              "#46039f"
             ],
             [
              0.2222222222222222,
              "#7201a8"
             ],
             [
              0.3333333333333333,
              "#9c179e"
             ],
             [
              0.4444444444444444,
              "#bd3786"
             ],
             [
              0.5555555555555556,
              "#d8576b"
             ],
             [
              0.6666666666666666,
              "#ed7953"
             ],
             [
              0.7777777777777778,
              "#fb9f3a"
             ],
             [
              0.8888888888888888,
              "#fdca26"
             ],
             [
              1,
              "#f0f921"
             ]
            ],
            "type": "histogram2dcontour"
           }
          ],
          "mesh3d": [
           {
            "colorbar": {
             "outlinewidth": 0,
             "ticks": ""
            },
            "type": "mesh3d"
           }
          ],
          "parcoords": [
           {
            "line": {
             "colorbar": {
              "outlinewidth": 0,
              "ticks": ""
             }
            },
            "type": "parcoords"
           }
          ],
          "pie": [
           {
            "automargin": true,
            "type": "pie"
           }
          ],
          "scatter": [
           {
            "marker": {
             "colorbar": {
              "outlinewidth": 0,
              "ticks": ""
             }
            },
            "type": "scatter"
           }
          ],
          "scatter3d": [
           {
            "line": {
             "colorbar": {
              "outlinewidth": 0,
              "ticks": ""
             }
            },
            "marker": {
             "colorbar": {
              "outlinewidth": 0,
              "ticks": ""
             }
            },
            "type": "scatter3d"
           }
          ],
          "scattercarpet": [
           {
            "marker": {
             "colorbar": {
              "outlinewidth": 0,
              "ticks": ""
             }
            },
            "type": "scattercarpet"
           }
          ],
          "scattergeo": [
           {
            "marker": {
             "colorbar": {
              "outlinewidth": 0,
              "ticks": ""
             }
            },
            "type": "scattergeo"
           }
          ],
          "scattergl": [
           {
            "marker": {
             "colorbar": {
              "outlinewidth": 0,
              "ticks": ""
             }
            },
            "type": "scattergl"
           }
          ],
          "scattermapbox": [
           {
            "marker": {
             "colorbar": {
              "outlinewidth": 0,
              "ticks": ""
             }
            },
            "type": "scattermapbox"
           }
          ],
          "scatterpolar": [
           {
            "marker": {
             "colorbar": {
              "outlinewidth": 0,
              "ticks": ""
             }
            },
            "type": "scatterpolar"
           }
          ],
          "scatterpolargl": [
           {
            "marker": {
             "colorbar": {
              "outlinewidth": 0,
              "ticks": ""
             }
            },
            "type": "scatterpolargl"
           }
          ],
          "scatterternary": [
           {
            "marker": {
             "colorbar": {
              "outlinewidth": 0,
              "ticks": ""
             }
            },
            "type": "scatterternary"
           }
          ],
          "surface": [
           {
            "colorbar": {
             "outlinewidth": 0,
             "ticks": ""
            },
            "colorscale": [
             [
              0,
              "#0d0887"
             ],
             [
              0.1111111111111111,
              "#46039f"
             ],
             [
              0.2222222222222222,
              "#7201a8"
             ],
             [
              0.3333333333333333,
              "#9c179e"
             ],
             [
              0.4444444444444444,
              "#bd3786"
             ],
             [
              0.5555555555555556,
              "#d8576b"
             ],
             [
              0.6666666666666666,
              "#ed7953"
             ],
             [
              0.7777777777777778,
              "#fb9f3a"
             ],
             [
              0.8888888888888888,
              "#fdca26"
             ],
             [
              1,
              "#f0f921"
             ]
            ],
            "type": "surface"
           }
          ],
          "table": [
           {
            "cells": {
             "fill": {
              "color": "#EBF0F8"
             },
             "line": {
              "color": "white"
             }
            },
            "header": {
             "fill": {
              "color": "#C8D4E3"
             },
             "line": {
              "color": "white"
             }
            },
            "type": "table"
           }
          ]
         },
         "layout": {
          "annotationdefaults": {
           "arrowcolor": "#2a3f5f",
           "arrowhead": 0,
           "arrowwidth": 1
          },
          "autotypenumbers": "strict",
          "coloraxis": {
           "colorbar": {
            "outlinewidth": 0,
            "ticks": ""
           }
          },
          "colorscale": {
           "diverging": [
            [
             0,
             "#8e0152"
            ],
            [
             0.1,
             "#c51b7d"
            ],
            [
             0.2,
             "#de77ae"
            ],
            [
             0.3,
             "#f1b6da"
            ],
            [
             0.4,
             "#fde0ef"
            ],
            [
             0.5,
             "#f7f7f7"
            ],
            [
             0.6,
             "#e6f5d0"
            ],
            [
             0.7,
             "#b8e186"
            ],
            [
             0.8,
             "#7fbc41"
            ],
            [
             0.9,
             "#4d9221"
            ],
            [
             1,
             "#276419"
            ]
           ],
           "sequential": [
            [
             0,
             "#0d0887"
            ],
            [
             0.1111111111111111,
             "#46039f"
            ],
            [
             0.2222222222222222,
             "#7201a8"
            ],
            [
             0.3333333333333333,
             "#9c179e"
            ],
            [
             0.4444444444444444,
             "#bd3786"
            ],
            [
             0.5555555555555556,
             "#d8576b"
            ],
            [
             0.6666666666666666,
             "#ed7953"
            ],
            [
             0.7777777777777778,
             "#fb9f3a"
            ],
            [
             0.8888888888888888,
             "#fdca26"
            ],
            [
             1,
             "#f0f921"
            ]
           ],
           "sequentialminus": [
            [
             0,
             "#0d0887"
            ],
            [
             0.1111111111111111,
             "#46039f"
            ],
            [
             0.2222222222222222,
             "#7201a8"
            ],
            [
             0.3333333333333333,
             "#9c179e"
            ],
            [
             0.4444444444444444,
             "#bd3786"
            ],
            [
             0.5555555555555556,
             "#d8576b"
            ],
            [
             0.6666666666666666,
             "#ed7953"
            ],
            [
             0.7777777777777778,
             "#fb9f3a"
            ],
            [
             0.8888888888888888,
             "#fdca26"
            ],
            [
             1,
             "#f0f921"
            ]
           ]
          },
          "colorway": [
           "#636efa",
           "#EF553B",
           "#00cc96",
           "#ab63fa",
           "#FFA15A",
           "#19d3f3",
           "#FF6692",
           "#B6E880",
           "#FF97FF",
           "#FECB52"
          ],
          "font": {
           "color": "#2a3f5f"
          },
          "geo": {
           "bgcolor": "white",
           "lakecolor": "white",
           "landcolor": "#E5ECF6",
           "showlakes": true,
           "showland": true,
           "subunitcolor": "white"
          },
          "hoverlabel": {
           "align": "left"
          },
          "hovermode": "closest",
          "mapbox": {
           "style": "light"
          },
          "paper_bgcolor": "white",
          "plot_bgcolor": "#E5ECF6",
          "polar": {
           "angularaxis": {
            "gridcolor": "white",
            "linecolor": "white",
            "ticks": ""
           },
           "bgcolor": "#E5ECF6",
           "radialaxis": {
            "gridcolor": "white",
            "linecolor": "white",
            "ticks": ""
           }
          },
          "scene": {
           "xaxis": {
            "backgroundcolor": "#E5ECF6",
            "gridcolor": "white",
            "gridwidth": 2,
            "linecolor": "white",
            "showbackground": true,
            "ticks": "",
            "zerolinecolor": "white"
           },
           "yaxis": {
            "backgroundcolor": "#E5ECF6",
            "gridcolor": "white",
            "gridwidth": 2,
            "linecolor": "white",
            "showbackground": true,
            "ticks": "",
            "zerolinecolor": "white"
           },
           "zaxis": {
            "backgroundcolor": "#E5ECF6",
            "gridcolor": "white",
            "gridwidth": 2,
            "linecolor": "white",
            "showbackground": true,
            "ticks": "",
            "zerolinecolor": "white"
           }
          },
          "shapedefaults": {
           "line": {
            "color": "#2a3f5f"
           }
          },
          "ternary": {
           "aaxis": {
            "gridcolor": "white",
            "linecolor": "white",
            "ticks": ""
           },
           "baxis": {
            "gridcolor": "white",
            "linecolor": "white",
            "ticks": ""
           },
           "bgcolor": "#E5ECF6",
           "caxis": {
            "gridcolor": "white",
            "linecolor": "white",
            "ticks": ""
           }
          },
          "title": {
           "x": 0.05
          },
          "xaxis": {
           "automargin": true,
           "gridcolor": "white",
           "linecolor": "white",
           "ticks": "",
           "title": {
            "standoff": 15
           },
           "zerolinecolor": "white",
           "zerolinewidth": 2
          },
          "yaxis": {
           "automargin": true,
           "gridcolor": "white",
           "linecolor": "white",
           "ticks": "",
           "title": {
            "standoff": 15
           },
           "zerolinecolor": "white",
           "zerolinewidth": 2
          }
         }
        },
        "title": {
         "text": "Spike Detection vs Movie Frame (exclude stimulus_onset)"
        },
        "xaxis": {
         "title": {
          "text": "Number of frames"
         }
        },
        "yaxis": {
         "title": {
          "text": "Spike Detected Indicator"
         }
        }
       }
      }
     },
     "metadata": {}
    }
   ],
   "source": [
    "fig = go.Figure()\n",
    "fig.add_trace(\n",
    "    go.Scatter(x=list(spike_time_movie_time.flatten()*example_stimulation['fps']), y=[1]*len(spike_time_movie_time), \n",
    "                mode='markers', marker=dict(size=3), name='Spike Detection',\n",
    "                hovertemplate = 'Spike is detected at %{x:.0f} movie frame',)\n",
    ")\n",
    "fig.update_layout(title='Spike Detection vs Movie Frame (exclude stimulus_onset)', xaxis_title='Number of frames', yaxis_title='Spike Detected Indicator', showlegend=True)\n",
    "fig.show()"
   ]
  },
  {
   "cell_type": "code",
   "execution_count": 154,
   "metadata": {},
   "outputs": [
    {
     "output_type": "stream",
     "name": "stdout",
     "text": [
      "Stimulation screen size/px: 640*480\nBlock size/px: 1*480\nMovie shape/blocks: (640, 1, 3823), n_frames: 3823, FPS: 59.9815, so movie time is 63.7363\n"
     ]
    }
   ],
   "source": [
    "print(\"Stimulation screen size/px: {}*{}\".format(example_stimulation['stim_width'], example_stimulation['stim_height']))\n",
    "print(\"Block size/px: {}*{}\".format(example_stimulation['x_block_size'], example_stimulation['y_block_size']))\n",
    "print(\"Movie shape/blocks: {}, n_frames: {}, FPS: {}, so movie time is {}\".format(example_stimulation['movie'].shape, example_stimulation['n_frames'], example_stimulation['fps'], round(example_stimulation['n_frames']/example_stimulation['fps'], 4)))"
   ]
  },
  {
   "cell_type": "code",
   "execution_count": 161,
   "metadata": {},
   "outputs": [
    {
     "output_type": "error",
     "ename": "IndexError",
     "evalue": "index 640 is out of bounds for axis 0 with size 640",
     "traceback": [
      "\u001b[0;31m---------------------------------------------------------------------------\u001b[0m",
      "\u001b[0;31mIndexError\u001b[0m                                Traceback (most recent call last)",
      "\u001b[0;32m<ipython-input-161-52ec2059f49d>\u001b[0m in \u001b[0;36m<module>\u001b[0;34m\u001b[0m\n\u001b[0;32m----> 1\u001b[0;31m \u001b[0mexample_movie\u001b[0m\u001b[0;34m[\u001b[0m\u001b[0;36m640\u001b[0m\u001b[0;34m]\u001b[0m\u001b[0;34m[\u001b[0m\u001b[0;36m0\u001b[0m\u001b[0;34m]\u001b[0m\u001b[0;34m[\u001b[0m\u001b[0;36m49\u001b[0m\u001b[0;34m]\u001b[0m\u001b[0;34m\u001b[0m\u001b[0;34m\u001b[0m\u001b[0m\n\u001b[0m",
      "\u001b[0;31mIndexError\u001b[0m: index 640 is out of bounds for axis 0 with size 640"
     ]
    }
   ],
   "source": [
    "# TODO - from a number of frame to get how does the stimulation screen looks like at that frame\n",
    "example_movie[640][0][49]"
   ]
  },
  {
   "cell_type": "code",
   "execution_count": null,
   "metadata": {},
   "outputs": [],
   "source": []
  }
 ]
}