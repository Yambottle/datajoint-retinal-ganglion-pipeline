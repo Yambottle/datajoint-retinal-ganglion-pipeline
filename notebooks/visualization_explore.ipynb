{
 "metadata": {
  "language_info": {
   "codemirror_mode": {
    "name": "ipython",
    "version": 3
   },
   "file_extension": ".py",
   "mimetype": "text/x-python",
   "name": "python",
   "nbconvert_exporter": "python",
   "pygments_lexer": "ipython3",
   "version": "3.6.13"
  },
  "orig_nbformat": 2,
  "kernelspec": {
   "name": "python3613jvsc74a57bd0c446f6aef876dd571a1952a54800bfdf00c38847d9e5a1717373ac094687b1c7",
   "display_name": "Python 3.6.13 64-bit ('datajoint': conda)"
  }
 },
 "nbformat": 4,
 "nbformat_minor": 2,
 "cells": [
  {
   "cell_type": "code",
   "execution_count": 1,
   "metadata": {},
   "outputs": [],
   "source": [
    "import numpy as np\n",
    "import pandas as np\n",
    "import pickle\n",
    "\n",
    "import plotly.graph_objects as go"
   ]
  },
  {
   "cell_type": "code",
   "execution_count": 3,
   "metadata": {},
   "outputs": [
    {
     "output_type": "execute_result",
     "data": {
      "text/plain": [
       "16"
      ]
     },
     "metadata": {},
     "execution_count": 3
    }
   ],
   "source": [
    "with open(\"../pipeline/data/ret1_data.pkl\", \"rb\") as file:\n",
    "    ret_data = pickle.load(file)\n",
    "len(ret_data)"
   ]
  },
  {
   "cell_type": "code",
   "execution_count": 14,
   "metadata": {},
   "outputs": [
    {
     "output_type": "stream",
     "name": "stdout",
     "text": [
      "---------------------------------------\nSubject Name: KO (chx10)\nSample Number: 1\nSession Date: 2008-06-06\n-------------------\nStimulation Screen: 640*480\nStimulation Block: 1*480\nMovie shape: (640, 1, 3823), n_frames: 3823, FPS: 59.9815, so movie time is 63.7363?\nPixel size on retina: 8.3\nOnset of the stimulus from the beginning of the recording session in seconds: 1.65657\nSpikes: \n(32, 1)\n(109, 1)\n(168, 1)\n(245, 1)\n-------------------\n---------------------------------------\nSubject Name: KO (chx10)\nSample Number: 2\nSession Date: 2008-06-06\n-------------------\nStimulation Screen: 640*480\nStimulation Block: 640*1\nMovie shape: (1, 480, 4377), n_frames: 4377, FPS: 59.9815, so movie time is 72.9725?\nPixel size on retina: 8.3\nOnset of the stimulus from the beginning of the recording session in seconds: 1.77267\nSpikes: \n(34, 1)\n(122, 1)\n(513, 1)\n(258, 1)\n(311, 1)\n(138, 1)\n-------------------\n---------------------------------------\nSubject Name: KO (chx10)\nSample Number: 3\nSession Date: 2008-06-06\n-------------------\nStimulation Screen: 640*480\nStimulation Block: 10*10\nMovie shape: (64, 48, 4241), n_frames: 4241, FPS: 59.9815, so movie time is 70.7051?\nPixel size on retina: 8.3\nOnset of the stimulus from the beginning of the recording session in seconds: 1.00227\nSpikes: \n(491, 1)\n-------------------\n---------------------------------------\nSubject Name: KO (chx10)\nSample Number: 2\nSession Date: 2008-06-24\n-------------------\nStimulation Screen: 640*300\nStimulation Block: 10*10\nMovie shape: (64, 30, 4125), n_frames: 4125, FPS: 59.9815, so movie time is 68.7712?\nPixel size on retina: 8.3\nOnset of the stimulus from the beginning of the recording session in seconds: 1.22127\nSpikes: \n(1322, 1)\n(298, 1)\n(203, 1)\n(750, 1)\n(611, 1)\n(240, 1)\n(256, 1)\n(670, 1)\n(1213, 1)\n(696, 1)\n(171, 1)\n(734, 1)\n(349, 1)\n(557, 1)\n(430, 1)\n(503, 1)\n(1336, 1)\n(171, 1)\n(794, 1)\n(553, 1)\n(757, 1)\n(387, 1)\n(1659, 1)\n(698, 1)\n(1135, 1)\n(25, 1)\n-------------------\n---------------------------------------\nSubject Name: KO (chx10)\nSample Number: 3\nSession Date: 2008-06-24\n-------------------\nStimulation Screen: 640*480\nStimulation Block: 5*480\nMovie shape: (128, 1, 4348), n_frames: 4348, FPS: 59.9816, so movie time is 72.4889?\nPixel size on retina: 8.3\nOnset of the stimulus from the beginning of the recording session in seconds: 1.05317\nSpikes: \n(145, 1)\n(89, 1)\n(71, 1)\n(369, 1)\n(304, 1)\n(880, 1)\n(462, 1)\n(164, 1)\n(180, 1)\n(215, 1)\n(263, 1)\n(107, 1)\n(293, 1)\n(209, 1)\n(204, 1)\n(261, 1)\n(163, 1)\n(248, 1)\n(689, 1)\n(173, 1)\n(89, 1)\n(176, 1)\n(137, 1)\n(307, 1)\n(36, 1)\n(134, 1)\n(35, 1)\n(18, 1)\n(42, 1)\n(230, 1)\n(154, 1)\n(33, 1)\n(64, 1)\n(108, 1)\n(97, 1)\n(194, 1)\n(219, 1)\n(39, 1)\n-------------------\n---------------------------------------\nSubject Name: KO (chx10)\nSample Number: 4\nSession Date: 2008-07-02\n-------------------\nStimulation Screen: 640*480\nStimulation Block: 2*480\nMovie shape: (320, 1, 4156), n_frames: 4156, FPS: 60.005, so movie time is 69.2609?\nPixel size on retina: 8.3\nOnset of the stimulus from the beginning of the recording session in seconds: 1.3066\nSpikes: \n(225, 1)\n(557, 1)\n(431, 1)\n(534, 1)\n(858, 1)\n(37, 1)\n(57, 1)\n(25, 1)\n(2157, 1)\n(74, 1)\n(181, 1)\n(436, 1)\n-------------------\nStimulation Screen: 640*320\nStimulation Block: 8*8\nMovie shape: (80, 40, 3854), n_frames: 3854, FPS: 29.9908, so movie time is 128.5061?\nPixel size on retina: 8.3\nOnset of the stimulus from the beginning of the recording session in seconds: 1.2634\nSpikes: \n(1267, 1)\n(1675, 1)\n(1581, 1)\n(1498, 1)\n(2075, 1)\n(465, 1)\n(750, 1)\n(279, 1)\n(1645, 1)\n(764, 1)\n(1616, 1)\n(3081, 1)\n-------------------\n---------------------------------------\nSubject Name: KO (pax6)\nSample Number: 1\nSession Date: 2008-05-16\n-------------------\nStimulation Screen: 640*480\nStimulation Block: 10*10\nMovie shape: (64, 48, 4325), n_frames: 4325, FPS: 59.9816, so movie time is 72.1054?\nPixel size on retina: 8.3\nOnset of the stimulus from the beginning of the recording session in seconds: 1.2488\nSpikes: \n(2157, 1)\n(435, 1)\n(1577, 1)\n(869, 1)\n(1358, 1)\n(261, 1)\n(1049, 1)\n-------------------\n---------------------------------------\nSubject Name: KO (pax6)\nSample Number: 2\nSession Date: 2008-05-16\n-------------------\nStimulation Screen: 640*480\nStimulation Block: 1*480\nMovie shape: (640, 1, 4331), n_frames: 4331, FPS: 59.9816, so movie time is 72.2055?\nPixel size on retina: 8.3\nOnset of the stimulus from the beginning of the recording session in seconds: 1.0617\nSpikes: \n(335, 1)\n(446, 1)\n(361, 1)\n(841, 1)\n(70, 1)\n(175, 1)\n(89, 1)\n(254, 1)\n(147, 1)\n(709, 1)\n(181, 1)\n(340, 1)\n(281, 1)\n(216, 1)\n(70, 1)\n(293, 1)\n(275, 1)\n(146, 1)\n(235, 1)\n(76, 1)\n(2, 1)\n(197, 1)\n(715, 1)\n(989, 1)\n(597, 1)\n(141, 1)\n(609, 1)\n(1717, 1)\n(24, 1)\n(1011, 1)\n(825, 1)\n(368, 1)\n(2123, 1)\n(506, 1)\n-------------------\n---------------------------------------\nSubject Name: KO (pax6)\nSample Number: 2\nSession Date: 2008-06-28\n-------------------\n---------------------------------------\nSubject Name: KO (pax6)\nSample Number: 3\nSession Date: 2008-06-28\n-------------------\n---------------------------------------\nSubject Name: KO bax -/- (chx10)\nSample Number: 1\nSession Date: 2008-07-02\n-------------------\n---------------------------------------\nSubject Name: WT (chx10 het)\nSample Number: 1\nSession Date: 2008-06-24\n-------------------\nStimulation Screen: 640*480\nStimulation Block: 640*2\nMovie shape: (1, 240, 3938), n_frames: 3938, FPS: 59.9815, so movie time is 65.6536?\nPixel size on retina: 8.3\nOnset of the stimulus from the beginning of the recording session in seconds: 6.65177\nSpikes: \n(686, 1)\n(1835, 1)\n(310, 1)\n(1379, 1)\n(591, 1)\n(1007, 1)\n(1451, 1)\n(3, 1)\n(1758, 1)\n(926, 1)\n(1721, 1)\n(68, 1)\n(837, 1)\n(1646, 1)\n(103, 1)\n(131, 1)\n(1662, 1)\n(654, 1)\n(1491, 1)\n(197, 1)\n(815, 1)\n(927, 1)\n(564, 1)\n(778, 1)\n(1112, 1)\n(404, 1)\n(768, 1)\n(2202, 1)\n(389, 1)\n(1153, 1)\n(857, 1)\n(810, 1)\n(284, 1)\n(1220, 1)\n(546, 1)\n(208, 1)\n(1122, 1)\n-------------------\n---------------------------------------\nSubject Name: WT (chx10 het)\nSample Number: 4\nSession Date: 2008-06-28\n-------------------\n---------------------------------------\nSubject Name: WT (chx10 het)\nSample Number: 5\nSession Date: 2008-06-28\n-------------------\n---------------------------------------\nSubject Name: WT (pax6 het)\nSample Number: 6\nSession Date: 2008-06-28\n-------------------\n---------------------------------------\nSubject Name: WT (pax6 het)\nSample Number: 7\nSession Date: 2008-06-28\n-------------------\n"
     ]
    }
   ],
   "source": [
    "for session in ret_data:\n",
    "    print('---------------------------------------')\n",
    "    print('Subject Name:', session['subject_name'])\n",
    "    print('Sample Number:', session['sample_number'])\n",
    "    print('Session Date:', session['session_date'])\n",
    "    print('-------------------')\n",
    "    for stimulation_example in session['stimulations']:\n",
    "        print(\"Stimulation Screen: {}*{}\".format(stimulation_example['stim_width'], stimulation_example['stim_height']))\n",
    "        print(\"Stimulation Block: {}*{}\".format(stimulation_example['x_block_size'], stimulation_example['y_block_size']))\n",
    "        print(\"Movie shape: {}, n_frames: {}, FPS: {}, so movie time is {}?\".format(stimulation_example['movie'].shape, stimulation_example['n_frames'], stimulation_example['fps'], round(stimulation_example['n_frames']/stimulation_example['fps'], 4)))\n",
    "        print(\"Pixel size on retina: {}\".format(stimulation_example['pixel_size']))\n",
    "        print(\"Onset of the stimulus from the beginning of the recording session in seconds: {}\".format(stimulation_example['stimulus_onset']))\n",
    "        print(\"Spikes: \")\n",
    "        for spike in stimulation_example['spikes']:\n",
    "            print(spike.shape)\n",
    "        print('-------------------')"
   ]
  },
  {
   "source": [
    "---"
   ],
   "cell_type": "markdown",
   "metadata": {}
  },
  {
   "cell_type": "code",
   "execution_count": 60,
   "metadata": {},
   "outputs": [],
   "source": [
    "example_movie = ret_data[0]['stimulations'][0]['movie']\n",
    "example_one_spike = ret_data[0]['stimulations'][0]['spikes'][2]"
   ]
  },
  {
   "cell_type": "code",
   "execution_count": 61,
   "metadata": {},
   "outputs": [
    {
     "output_type": "stream",
     "name": "stdout",
     "text": [
      "[[ 1.7791]\n [ 1.7964]\n [ 1.803 ]\n [ 1.868 ]\n [ 2.0562]\n [ 2.0714]\n [ 2.0857]\n [ 2.0991]\n [ 2.2433]\n [ 2.4612]\n [ 2.5337]\n [ 2.5634]\n [ 2.5785]\n [ 2.8151]\n [ 3.0039]\n [ 3.0191]\n [ 3.0348]\n [ 3.0511]\n [ 3.484 ]\n [ 3.6334]\n [ 3.7301]\n [ 3.8227]\n [ 3.947 ]\n [ 3.9639]\n [ 4.2287]\n [ 4.2451]\n [ 4.2604]\n [ 4.4903]\n [ 4.6438]\n [ 4.9591]\n [ 5.0571]\n [ 5.0729]\n [ 5.138 ]\n [ 5.1548]\n [ 5.2455]\n [ 5.4553]\n [ 5.6231]\n [ 5.6375]\n [ 5.8201]\n [ 6.2989]\n [ 6.3389]\n [ 6.7252]\n [ 6.983 ]\n [ 7.1217]\n [ 7.3757]\n [ 7.3923]\n [ 7.6835]\n [ 7.79  ]\n [ 7.9624]\n [ 8.1241]\n [ 8.3244]\n [ 8.4877]\n [ 8.798 ]\n [ 9.0565]\n [ 9.0746]\n [ 9.1802]\n [ 9.5222]\n [ 9.7075]\n [10.0793]\n [10.1435]\n [10.2273]\n [10.3007]\n [10.8439]\n [10.9387]\n [10.9551]\n [11.1893]\n [11.6332]\n [11.8367]\n [12.4202]\n [12.8032]\n [12.8208]\n [13.1993]\n [13.349 ]\n [13.7762]\n [14.5619]\n [15.0431]\n [15.2065]\n [15.2497]\n [16.0167]\n [16.8399]\n [16.857 ]\n [17.1016]\n [17.1183]\n [17.6247]\n [18.4626]\n [18.4768]\n [18.6956]\n [19.1819]\n [19.4759]\n [19.4921]\n [20.0609]\n [20.369 ]\n [21.0569]\n [21.8496]\n [23.014 ]\n [23.4699]\n [23.5329]\n [24.6492]\n [25.3057]\n [25.9304]\n [25.9632]\n [26.1215]\n [26.801 ]\n [27.6754]\n [27.9711]\n [27.9859]\n [28.0004]\n [28.8188]\n [29.1527]\n [29.253 ]\n [29.7525]\n [30.4042]\n [30.4717]\n [31.2389]\n [31.2544]\n [31.8861]\n [32.5616]\n [33.4508]\n [33.9221]\n [35.6061]\n [36.7639]\n [36.7795]\n [36.7939]\n [37.3726]\n [37.8805]\n [37.8971]\n [38.1232]\n [39.0638]\n [39.0784]\n [39.5361]\n [39.9145]\n [39.9302]\n [39.9464]\n [40.2891]\n [43.1986]\n [43.2659]\n [43.8118]\n [44.2808]\n [44.4651]\n [44.7233]\n [45.3328]\n [45.8242]\n [47.5965]\n [48.5368]\n [49.6055]\n [49.62  ]\n [50.1237]\n [50.6134]\n [51.4479]\n [51.4627]\n [51.4945]\n [51.5106]\n [52.3553]\n [55.4301]\n [55.4935]\n [57.8589]\n [57.8748]\n [58.4117]\n [58.4284]\n [58.4437]\n [60.6096]\n [61.0911]\n [61.4879]\n [61.6363]\n [61.6696]\n [62.8607]\n [62.8772]\n [65.5169]]\n"
     ]
    }
   ],
   "source": [
    "print(example_one_spike)"
   ]
  },
  {
   "cell_type": "code",
   "execution_count": 62,
   "metadata": {},
   "outputs": [
    {
     "output_type": "display_data",
     "data": {
      "application/vnd.plotly.v1+json": {
       "config": {
        "plotlyServerURL": "https://plot.ly"
       },
       "data": [
        {
         "mode": "lines",
         "name": "example_spike",
         "type": "scatter",
         "x": [
          0,
          1,
          2,
          3,
          4,
          5,
          6,
          7,
          8,
          9,
          10,
          11,
          12,
          13,
          14,
          15,
          16,
          17,
          18,
          19,
          20,
          21,
          22,
          23,
          24,
          25,
          26,
          27,
          28,
          29,
          30,
          31,
          32,
          33,
          34,
          35,
          36,
          37,
          38,
          39,
          40,
          41,
          42,
          43,
          44,
          45,
          46,
          47,
          48,
          49,
          50,
          51,
          52,
          53,
          54,
          55,
          56,
          57,
          58,
          59,
          60,
          61,
          62,
          63,
          64,
          65,
          66,
          67,
          68,
          69,
          70,
          71,
          72,
          73,
          74,
          75,
          76,
          77,
          78,
          79,
          80,
          81,
          82,
          83,
          84,
          85,
          86,
          87,
          88,
          89,
          90,
          91,
          92,
          93,
          94,
          95,
          96,
          97,
          98,
          99,
          100,
          101,
          102,
          103,
          104,
          105,
          106,
          107,
          108,
          109,
          110,
          111,
          112,
          113,
          114,
          115,
          116,
          117,
          118,
          119,
          120,
          121,
          122,
          123,
          124,
          125,
          126,
          127,
          128,
          129,
          130,
          131,
          132,
          133,
          134,
          135,
          136,
          137,
          138,
          139,
          140,
          141,
          142,
          143,
          144,
          145,
          146,
          147,
          148,
          149,
          150,
          151,
          152,
          153,
          154,
          155,
          156,
          157,
          158,
          159,
          160,
          161,
          162,
          163,
          164,
          165,
          166,
          167
         ],
         "y": [
          1.7791,
          1.7964,
          1.803,
          1.868,
          2.0562,
          2.0714,
          2.0857,
          2.0991,
          2.2433,
          2.4612,
          2.5337,
          2.5634,
          2.5785,
          2.8151,
          3.0039,
          3.0191,
          3.0348,
          3.0511,
          3.484,
          3.6334,
          3.7301,
          3.8227,
          3.947,
          3.9639,
          4.2287,
          4.2451,
          4.2604,
          4.4903,
          4.6438,
          4.9591,
          5.0571,
          5.0729,
          5.138,
          5.1548,
          5.2455,
          5.4553,
          5.6231,
          5.6375,
          5.8201,
          6.2989,
          6.3389,
          6.7252,
          6.983,
          7.1217,
          7.3757,
          7.3923,
          7.6835,
          7.79,
          7.9624,
          8.1241,
          8.3244,
          8.4877,
          8.798,
          9.0565,
          9.0746,
          9.1802,
          9.5222,
          9.7075,
          10.0793,
          10.1435,
          10.2273,
          10.3007,
          10.8439,
          10.9387,
          10.9551,
          11.1893,
          11.6332,
          11.8367,
          12.4202,
          12.8032,
          12.8208,
          13.1993,
          13.349,
          13.7762,
          14.5619,
          15.0431,
          15.2065,
          15.2497,
          16.0167,
          16.8399,
          16.857,
          17.1016,
          17.1183,
          17.6247,
          18.4626,
          18.4768,
          18.6956,
          19.1819,
          19.4759,
          19.4921,
          20.0609,
          20.369,
          21.0569,
          21.8496,
          23.014,
          23.4699,
          23.5329,
          24.6492,
          25.3057,
          25.9304,
          25.9632,
          26.1215,
          26.801,
          27.6754,
          27.9711,
          27.9859,
          28.0004,
          28.8188,
          29.1527,
          29.253,
          29.7525,
          30.4042,
          30.4717,
          31.2389,
          31.2544,
          31.8861,
          32.5616,
          33.4508,
          33.9221,
          35.6061,
          36.7639,
          36.7795,
          36.7939,
          37.3726,
          37.8805,
          37.8971,
          38.1232,
          39.0638,
          39.0784,
          39.5361,
          39.9145,
          39.9302,
          39.9464,
          40.2891,
          43.1986,
          43.2659,
          43.8118,
          44.2808,
          44.4651,
          44.7233,
          45.3328,
          45.8242,
          47.5965,
          48.5368,
          49.6055,
          49.62,
          50.1237,
          50.6134,
          51.4479,
          51.4627,
          51.4945,
          51.5106,
          52.3553,
          55.4301,
          55.4935,
          57.8589,
          57.8748,
          58.4117,
          58.4284,
          58.4437,
          60.6096,
          61.0911,
          61.4879,
          61.6363,
          61.6696,
          62.8607,
          62.8772,
          65.5169
         ]
        }
       ],
       "layout": {
        "template": {
         "data": {
          "bar": [
           {
            "error_x": {
             "color": "#2a3f5f"
            },
            "error_y": {
             "color": "#2a3f5f"
            },
            "marker": {
             "line": {
              "color": "#E5ECF6",
              "width": 0.5
             }
            },
            "type": "bar"
           }
          ],
          "barpolar": [
           {
            "marker": {
             "line": {
              "color": "#E5ECF6",
              "width": 0.5
             }
            },
            "type": "barpolar"
           }
          ],
          "carpet": [
           {
            "aaxis": {
             "endlinecolor": "#2a3f5f",
             "gridcolor": "white",
             "linecolor": "white",
             "minorgridcolor": "white",
             "startlinecolor": "#2a3f5f"
            },
            "baxis": {
             "endlinecolor": "#2a3f5f",
             "gridcolor": "white",
             "linecolor": "white",
             "minorgridcolor": "white",
             "startlinecolor": "#2a3f5f"
            },
            "type": "carpet"
           }
          ],
          "choropleth": [
           {
            "colorbar": {
             "outlinewidth": 0,
             "ticks": ""
            },
            "type": "choropleth"
           }
          ],
          "contour": [
           {
            "colorbar": {
             "outlinewidth": 0,
             "ticks": ""
            },
            "colorscale": [
             [
              0,
              "#0d0887"
             ],
             [
              0.1111111111111111,
              "#46039f"
             ],
             [
              0.2222222222222222,
              "#7201a8"
             ],
             [
              0.3333333333333333,
              "#9c179e"
             ],
             [
              0.4444444444444444,
              "#bd3786"
             ],
             [
              0.5555555555555556,
              "#d8576b"
             ],
             [
              0.6666666666666666,
              "#ed7953"
             ],
             [
              0.7777777777777778,
              "#fb9f3a"
             ],
             [
              0.8888888888888888,
              "#fdca26"
             ],
             [
              1,
              "#f0f921"
             ]
            ],
            "type": "contour"
           }
          ],
          "contourcarpet": [
           {
            "colorbar": {
             "outlinewidth": 0,
             "ticks": ""
            },
            "type": "contourcarpet"
           }
          ],
          "heatmap": [
           {
            "colorbar": {
             "outlinewidth": 0,
             "ticks": ""
            },
            "colorscale": [
             [
              0,
              "#0d0887"
             ],
             [
              0.1111111111111111,
              "#46039f"
             ],
             [
              0.2222222222222222,
              "#7201a8"
             ],
             [
              0.3333333333333333,
              "#9c179e"
             ],
             [
              0.4444444444444444,
              "#bd3786"
             ],
             [
              0.5555555555555556,
              "#d8576b"
             ],
             [
              0.6666666666666666,
              "#ed7953"
             ],
             [
              0.7777777777777778,
              "#fb9f3a"
             ],
             [
              0.8888888888888888,
              "#fdca26"
             ],
             [
              1,
              "#f0f921"
             ]
            ],
            "type": "heatmap"
           }
          ],
          "heatmapgl": [
           {
            "colorbar": {
             "outlinewidth": 0,
             "ticks": ""
            },
            "colorscale": [
             [
              0,
              "#0d0887"
             ],
             [
              0.1111111111111111,
              "#46039f"
             ],
             [
              0.2222222222222222,
              "#7201a8"
             ],
             [
              0.3333333333333333,
              "#9c179e"
             ],
             [
              0.4444444444444444,
              "#bd3786"
             ],
             [
              0.5555555555555556,
              "#d8576b"
             ],
             [
              0.6666666666666666,
              "#ed7953"
             ],
             [
              0.7777777777777778,
              "#fb9f3a"
             ],
             [
              0.8888888888888888,
              "#fdca26"
             ],
             [
              1,
              "#f0f921"
             ]
            ],
            "type": "heatmapgl"
           }
          ],
          "histogram": [
           {
            "marker": {
             "colorbar": {
              "outlinewidth": 0,
              "ticks": ""
             }
            },
            "type": "histogram"
           }
          ],
          "histogram2d": [
           {
            "colorbar": {
             "outlinewidth": 0,
             "ticks": ""
            },
            "colorscale": [
             [
              0,
              "#0d0887"
             ],
             [
              0.1111111111111111,
              "#46039f"
             ],
             [
              0.2222222222222222,
              "#7201a8"
             ],
             [
              0.3333333333333333,
              "#9c179e"
             ],
             [
              0.4444444444444444,
              "#bd3786"
             ],
             [
              0.5555555555555556,
              "#d8576b"
             ],
             [
              0.6666666666666666,
              "#ed7953"
             ],
             [
              0.7777777777777778,
              "#fb9f3a"
             ],
             [
              0.8888888888888888,
              "#fdca26"
             ],
             [
              1,
              "#f0f921"
             ]
            ],
            "type": "histogram2d"
           }
          ],
          "histogram2dcontour": [
           {
            "colorbar": {
             "outlinewidth": 0,
             "ticks": ""
            },
            "colorscale": [
             [
              0,
              "#0d0887"
             ],
             [
              0.1111111111111111,
              "#46039f"
             ],
             [
              0.2222222222222222,
              "#7201a8"
             ],
             [
              0.3333333333333333,
              "#9c179e"
             ],
             [
              0.4444444444444444,
              "#bd3786"
             ],
             [
              0.5555555555555556,
              "#d8576b"
             ],
             [
              0.6666666666666666,
              "#ed7953"
             ],
             [
              0.7777777777777778,
              "#fb9f3a"
             ],
             [
              0.8888888888888888,
              "#fdca26"
             ],
             [
              1,
              "#f0f921"
             ]
            ],
            "type": "histogram2dcontour"
           }
          ],
          "mesh3d": [
           {
            "colorbar": {
             "outlinewidth": 0,
             "ticks": ""
            },
            "type": "mesh3d"
           }
          ],
          "parcoords": [
           {
            "line": {
             "colorbar": {
              "outlinewidth": 0,
              "ticks": ""
             }
            },
            "type": "parcoords"
           }
          ],
          "pie": [
           {
            "automargin": true,
            "type": "pie"
           }
          ],
          "scatter": [
           {
            "marker": {
             "colorbar": {
              "outlinewidth": 0,
              "ticks": ""
             }
            },
            "type": "scatter"
           }
          ],
          "scatter3d": [
           {
            "line": {
             "colorbar": {
              "outlinewidth": 0,
              "ticks": ""
             }
            },
            "marker": {
             "colorbar": {
              "outlinewidth": 0,
              "ticks": ""
             }
            },
            "type": "scatter3d"
           }
          ],
          "scattercarpet": [
           {
            "marker": {
             "colorbar": {
              "outlinewidth": 0,
              "ticks": ""
             }
            },
            "type": "scattercarpet"
           }
          ],
          "scattergeo": [
           {
            "marker": {
             "colorbar": {
              "outlinewidth": 0,
              "ticks": ""
             }
            },
            "type": "scattergeo"
           }
          ],
          "scattergl": [
           {
            "marker": {
             "colorbar": {
              "outlinewidth": 0,
              "ticks": ""
             }
            },
            "type": "scattergl"
           }
          ],
          "scattermapbox": [
           {
            "marker": {
             "colorbar": {
              "outlinewidth": 0,
              "ticks": ""
             }
            },
            "type": "scattermapbox"
           }
          ],
          "scatterpolar": [
           {
            "marker": {
             "colorbar": {
              "outlinewidth": 0,
              "ticks": ""
             }
            },
            "type": "scatterpolar"
           }
          ],
          "scatterpolargl": [
           {
            "marker": {
             "colorbar": {
              "outlinewidth": 0,
              "ticks": ""
             }
            },
            "type": "scatterpolargl"
           }
          ],
          "scatterternary": [
           {
            "marker": {
             "colorbar": {
              "outlinewidth": 0,
              "ticks": ""
             }
            },
            "type": "scatterternary"
           }
          ],
          "surface": [
           {
            "colorbar": {
             "outlinewidth": 0,
             "ticks": ""
            },
            "colorscale": [
             [
              0,
              "#0d0887"
             ],
             [
              0.1111111111111111,
              "#46039f"
             ],
             [
              0.2222222222222222,
              "#7201a8"
             ],
             [
              0.3333333333333333,
              "#9c179e"
             ],
             [
              0.4444444444444444,
              "#bd3786"
             ],
             [
              0.5555555555555556,
              "#d8576b"
             ],
             [
              0.6666666666666666,
              "#ed7953"
             ],
             [
              0.7777777777777778,
              "#fb9f3a"
             ],
             [
              0.8888888888888888,
              "#fdca26"
             ],
             [
              1,
              "#f0f921"
             ]
            ],
            "type": "surface"
           }
          ],
          "table": [
           {
            "cells": {
             "fill": {
              "color": "#EBF0F8"
             },
             "line": {
              "color": "white"
             }
            },
            "header": {
             "fill": {
              "color": "#C8D4E3"
             },
             "line": {
              "color": "white"
             }
            },
            "type": "table"
           }
          ]
         },
         "layout": {
          "annotationdefaults": {
           "arrowcolor": "#2a3f5f",
           "arrowhead": 0,
           "arrowwidth": 1
          },
          "autotypenumbers": "strict",
          "coloraxis": {
           "colorbar": {
            "outlinewidth": 0,
            "ticks": ""
           }
          },
          "colorscale": {
           "diverging": [
            [
             0,
             "#8e0152"
            ],
            [
             0.1,
             "#c51b7d"
            ],
            [
             0.2,
             "#de77ae"
            ],
            [
             0.3,
             "#f1b6da"
            ],
            [
             0.4,
             "#fde0ef"
            ],
            [
             0.5,
             "#f7f7f7"
            ],
            [
             0.6,
             "#e6f5d0"
            ],
            [
             0.7,
             "#b8e186"
            ],
            [
             0.8,
             "#7fbc41"
            ],
            [
             0.9,
             "#4d9221"
            ],
            [
             1,
             "#276419"
            ]
           ],
           "sequential": [
            [
             0,
             "#0d0887"
            ],
            [
             0.1111111111111111,
             "#46039f"
            ],
            [
             0.2222222222222222,
             "#7201a8"
            ],
            [
             0.3333333333333333,
             "#9c179e"
            ],
            [
             0.4444444444444444,
             "#bd3786"
            ],
            [
             0.5555555555555556,
             "#d8576b"
            ],
            [
             0.6666666666666666,
             "#ed7953"
            ],
            [
             0.7777777777777778,
             "#fb9f3a"
            ],
            [
             0.8888888888888888,
             "#fdca26"
            ],
            [
             1,
             "#f0f921"
            ]
           ],
           "sequentialminus": [
            [
             0,
             "#0d0887"
            ],
            [
             0.1111111111111111,
             "#46039f"
            ],
            [
             0.2222222222222222,
             "#7201a8"
            ],
            [
             0.3333333333333333,
             "#9c179e"
            ],
            [
             0.4444444444444444,
             "#bd3786"
            ],
            [
             0.5555555555555556,
             "#d8576b"
            ],
            [
             0.6666666666666666,
             "#ed7953"
            ],
            [
             0.7777777777777778,
             "#fb9f3a"
            ],
            [
             0.8888888888888888,
             "#fdca26"
            ],
            [
             1,
             "#f0f921"
            ]
           ]
          },
          "colorway": [
           "#636efa",
           "#EF553B",
           "#00cc96",
           "#ab63fa",
           "#FFA15A",
           "#19d3f3",
           "#FF6692",
           "#B6E880",
           "#FF97FF",
           "#FECB52"
          ],
          "font": {
           "color": "#2a3f5f"
          },
          "geo": {
           "bgcolor": "white",
           "lakecolor": "white",
           "landcolor": "#E5ECF6",
           "showlakes": true,
           "showland": true,
           "subunitcolor": "white"
          },
          "hoverlabel": {
           "align": "left"
          },
          "hovermode": "closest",
          "mapbox": {
           "style": "light"
          },
          "paper_bgcolor": "white",
          "plot_bgcolor": "#E5ECF6",
          "polar": {
           "angularaxis": {
            "gridcolor": "white",
            "linecolor": "white",
            "ticks": ""
           },
           "bgcolor": "#E5ECF6",
           "radialaxis": {
            "gridcolor": "white",
            "linecolor": "white",
            "ticks": ""
           }
          },
          "scene": {
           "xaxis": {
            "backgroundcolor": "#E5ECF6",
            "gridcolor": "white",
            "gridwidth": 2,
            "linecolor": "white",
            "showbackground": true,
            "ticks": "",
            "zerolinecolor": "white"
           },
           "yaxis": {
            "backgroundcolor": "#E5ECF6",
            "gridcolor": "white",
            "gridwidth": 2,
            "linecolor": "white",
            "showbackground": true,
            "ticks": "",
            "zerolinecolor": "white"
           },
           "zaxis": {
            "backgroundcolor": "#E5ECF6",
            "gridcolor": "white",
            "gridwidth": 2,
            "linecolor": "white",
            "showbackground": true,
            "ticks": "",
            "zerolinecolor": "white"
           }
          },
          "shapedefaults": {
           "line": {
            "color": "#2a3f5f"
           }
          },
          "ternary": {
           "aaxis": {
            "gridcolor": "white",
            "linecolor": "white",
            "ticks": ""
           },
           "baxis": {
            "gridcolor": "white",
            "linecolor": "white",
            "ticks": ""
           },
           "bgcolor": "#E5ECF6",
           "caxis": {
            "gridcolor": "white",
            "linecolor": "white",
            "ticks": ""
           }
          },
          "title": {
           "x": 0.05
          },
          "xaxis": {
           "automargin": true,
           "gridcolor": "white",
           "linecolor": "white",
           "ticks": "",
           "title": {
            "standoff": 15
           },
           "zerolinecolor": "white",
           "zerolinewidth": 2
          },
          "yaxis": {
           "automargin": true,
           "gridcolor": "white",
           "linecolor": "white",
           "ticks": "",
           "title": {
            "standoff": 15
           },
           "zerolinecolor": "white",
           "zerolinewidth": 2
          }
         }
        }
       }
      }
     },
     "metadata": {}
    }
   ],
   "source": [
    "fig = go.Figure()\n",
    "fig.add_trace(\n",
    "    go.Scatter(x=list(range(0, example_one_spike.shape[0])), y=list(example_one_spike.flatten()), mode='lines', name='example_spike')\n",
    ")\n",
    "fig.show()"
   ]
  },
  {
   "cell_type": "code",
   "execution_count": null,
   "metadata": {},
   "outputs": [],
   "source": []
  },
  {
   "cell_type": "code",
   "execution_count": null,
   "metadata": {},
   "outputs": [],
   "source": []
  }
 ]
}