{
 "metadata": {
  "language_info": {
   "codemirror_mode": {
    "name": "ipython",
    "version": 3
   },
   "file_extension": ".py",
   "mimetype": "text/x-python",
   "name": "python",
   "nbconvert_exporter": "python",
   "pygments_lexer": "ipython3",
   "version": "3.8.5"
  },
  "orig_nbformat": 2,
  "kernelspec": {
   "name": "python385jvsc74a57bd040085f1a0e8397d27775d627e4c0b230d8e6fcf37a7d4ae051e1511da67025c6",
   "display_name": "Python 3.8.5 64-bit ('base': conda)"
  }
 },
 "nbformat": 4,
 "nbformat_minor": 2,
 "cells": [
  {
   "cell_type": "code",
   "execution_count": 2,
   "metadata": {},
   "outputs": [],
   "source": [
    "import numpy as np\n",
    "import pandas as pd\n",
    "import pickle"
   ]
  },
  {
   "cell_type": "code",
   "execution_count": 5,
   "metadata": {},
   "outputs": [
    {
     "output_type": "execute_result",
     "data": {
      "text/plain": [
       "16"
      ]
     },
     "metadata": {},
     "execution_count": 5
    }
   ],
   "source": [
    "with open(\"../pipeline/data/ret1_data.pkl\", \"rb\") as file:\n",
    "    ret_data = pickle.load(file)\n",
    "len(ret_data)"
   ]
  },
  {
   "cell_type": "code",
   "execution_count": 6,
   "metadata": {},
   "outputs": [
    {
     "output_type": "execute_result",
     "data": {
      "text/plain": [
       "dict_keys(['sample_number', 'stimulations', 'subject_name', 'session_date'])"
      ]
     },
     "metadata": {},
     "execution_count": 6
    }
   ],
   "source": [
    "ret_data[0].keys()"
   ]
  },
  {
   "cell_type": "code",
   "execution_count": 8,
   "metadata": {},
   "outputs": [
    {
     "output_type": "stream",
     "name": "stdout",
     "text": [
      "KO (chx10) 2008-06-06 1 1\nKO (chx10) 2008-06-06 2 1\nKO (chx10) 2008-06-06 3 1\nKO (chx10) 2008-06-24 2 1\nKO (chx10) 2008-06-24 3 1\nKO (chx10) 2008-07-02 4 2\nKO (pax6) 2008-05-16 1 1\nKO (pax6) 2008-05-16 2 1\nKO (pax6) 2008-06-28 2 0\nKO (pax6) 2008-06-28 3 0\nKO bax -/- (chx10) 2008-07-02 1 0\nWT (chx10 het) 2008-06-24 1 1\nWT (chx10 het) 2008-06-28 4 0\nWT (chx10 het) 2008-06-28 5 0\nWT (pax6 het) 2008-06-28 6 0\nWT (pax6 het) 2008-06-28 7 0\n"
     ]
    }
   ],
   "source": [
    "for ret in ret_data:\n",
    "    print(ret['subject_name'], ret['session_date'], ret['sample_number'], len(ret['stimulations']))"
   ]
  },
  {
   "cell_type": "code",
   "execution_count": 15,
   "metadata": {},
   "outputs": [
    {
     "output_type": "execute_result",
     "data": {
      "text/plain": [
       "dict_keys(['spikes', 'stim_width', 'stimulus_onset', 'fps', 'pixel_size', 'y_block_size', 'stim_height', 'n_frames', 'x_block_size', 'movie'])"
      ]
     },
     "metadata": {},
     "execution_count": 15
    }
   ],
   "source": [
    "ret_data[5]['stimulations'][0].keys()"
   ]
  },
  {
   "cell_type": "code",
   "execution_count": 27,
   "metadata": {},
   "outputs": [
    {
     "output_type": "stream",
     "name": "stdout",
     "text": [
      "stim_width:640\nstimulus_onset:1.3066\nfps:60.005\npixel_size:8.3\ny_block_size:480\nstim_height:480\nn_frames:4156\nx_block_size:2\n"
     ]
    }
   ],
   "source": [
    "for k,v in ret_data[5]['stimulations'][0].items():\n",
    "    if k == 'spikes' or k == 'movie':\n",
    "        continue\n",
    "    print(\"{}:{}\".format(k, v))"
   ]
  },
  {
   "cell_type": "code",
   "execution_count": 16,
   "metadata": {},
   "outputs": [
    {
     "output_type": "execute_result",
     "data": {
      "text/plain": [
       "(320, 1, 4156)"
      ]
     },
     "metadata": {},
     "execution_count": 16
    }
   ],
   "source": [
    "ret_data[5]['stimulations'][0]['movie'].shape"
   ]
  },
  {
   "cell_type": "code",
   "execution_count": 22,
   "metadata": {},
   "outputs": [
    {
     "output_type": "execute_result",
     "data": {
      "text/plain": [
       "12"
      ]
     },
     "metadata": {},
     "execution_count": 22
    }
   ],
   "source": [
    "len(ret_data[5]['stimulations'][0]['spikes'])"
   ]
  },
  {
   "cell_type": "code",
   "execution_count": 34,
   "metadata": {},
   "outputs": [
    {
     "output_type": "execute_result",
     "data": {
      "text/plain": [
       "(57, 1)"
      ]
     },
     "metadata": {},
     "execution_count": 34
    }
   ],
   "source": [
    "ret_data[5]['stimulations'][0]['spikes'][6].shape"
   ]
  },
  {
   "cell_type": "code",
   "execution_count": null,
   "metadata": {},
   "outputs": [],
   "source": []
  }
 ]
}