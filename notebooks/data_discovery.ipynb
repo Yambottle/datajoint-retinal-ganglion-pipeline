{
 "metadata": {
  "language_info": {
   "codemirror_mode": {
    "name": "ipython",
    "version": 3
   },
   "file_extension": ".py",
   "mimetype": "text/x-python",
   "name": "python",
   "nbconvert_exporter": "python",
   "pygments_lexer": "ipython3",
   "version": "3.8.5"
  },
  "orig_nbformat": 2,
  "kernelspec": {
   "name": "python385jvsc74a57bd040085f1a0e8397d27775d627e4c0b230d8e6fcf37a7d4ae051e1511da67025c6",
   "display_name": "Python 3.8.5 64-bit ('base': conda)"
  }
 },
 "nbformat": 4,
 "nbformat_minor": 2,
 "cells": [
  {
   "cell_type": "code",
   "execution_count": 2,
   "metadata": {},
   "outputs": [],
   "source": [
    "import numpy as np\n",
    "import pandas as pd\n",
    "import pickle"
   ]
  },
  {
   "cell_type": "code",
   "execution_count": 3,
   "metadata": {},
   "outputs": [
    {
     "output_type": "execute_result",
     "data": {
      "text/plain": [
       "16"
      ]
     },
     "metadata": {},
     "execution_count": 3
    }
   ],
   "source": [
    "with open(\"../pipeline/data/ret1_data.pkl\", \"rb\") as file:\n",
    "    ret_data = pickle.load(file)\n",
    "len(ret_data)"
   ]
  },
  {
   "cell_type": "code",
   "execution_count": 4,
   "metadata": {},
   "outputs": [
    {
     "output_type": "execute_result",
     "data": {
      "text/plain": [
       "dict_keys(['sample_number', 'stimulations', 'subject_name', 'session_date'])"
      ]
     },
     "metadata": {},
     "execution_count": 4
    }
   ],
   "source": [
    "ret_data[0].keys()"
   ]
  },
  {
   "cell_type": "code",
   "execution_count": 5,
   "metadata": {},
   "outputs": [
    {
     "output_type": "stream",
     "name": "stdout",
     "text": [
      "KO (chx10) 2008-06-06 1 1\nKO (chx10) 2008-06-06 2 1\nKO (chx10) 2008-06-06 3 1\nKO (chx10) 2008-06-24 2 1\nKO (chx10) 2008-06-24 3 1\nKO (chx10) 2008-07-02 4 2\nKO (pax6) 2008-05-16 1 1\nKO (pax6) 2008-05-16 2 1\nKO (pax6) 2008-06-28 2 0\nKO (pax6) 2008-06-28 3 0\nKO bax -/- (chx10) 2008-07-02 1 0\nWT (chx10 het) 2008-06-24 1 1\nWT (chx10 het) 2008-06-28 4 0\nWT (chx10 het) 2008-06-28 5 0\nWT (pax6 het) 2008-06-28 6 0\nWT (pax6 het) 2008-06-28 7 0\n"
     ]
    }
   ],
   "source": [
    "for ret in ret_data:\n",
    "    print(ret['subject_name'], ret['session_date'], ret['sample_number'], len(ret['stimulations']))"
   ]
  },
  {
   "cell_type": "code",
   "execution_count": 6,
   "metadata": {},
   "outputs": [
    {
     "output_type": "execute_result",
     "data": {
      "text/plain": [
       "dict_keys(['spikes', 'stim_width', 'stimulus_onset', 'fps', 'pixel_size', 'y_block_size', 'stim_height', 'n_frames', 'x_block_size', 'movie'])"
      ]
     },
     "metadata": {},
     "execution_count": 6
    }
   ],
   "source": [
    "ret_data[5]['stimulations'][0].keys()"
   ]
  },
  {
   "cell_type": "code",
   "execution_count": 7,
   "metadata": {},
   "outputs": [
    {
     "output_type": "stream",
     "name": "stdout",
     "text": [
      "stim_width:640\nstimulus_onset:1.3066\nfps:60.005\npixel_size:8.3\ny_block_size:480\nstim_height:480\nn_frames:4156\nx_block_size:2\n"
     ]
    }
   ],
   "source": [
    "for k,v in ret_data[5]['stimulations'][0].items():\n",
    "    if k == 'spikes' or k == 'movie':\n",
    "        continue\n",
    "    print(\"{}:{}\".format(k, v))"
   ]
  },
  {
   "cell_type": "code",
   "execution_count": 8,
   "metadata": {},
   "outputs": [
    {
     "output_type": "execute_result",
     "data": {
      "text/plain": [
       "(320, 1, 4156)"
      ]
     },
     "metadata": {},
     "execution_count": 8
    }
   ],
   "source": [
    "ret_data[5]['stimulations'][0]['movie'].shape"
   ]
  },
  {
   "cell_type": "code",
   "execution_count": 9,
   "metadata": {},
   "outputs": [
    {
     "output_type": "execute_result",
     "data": {
      "text/plain": [
       "12"
      ]
     },
     "metadata": {},
     "execution_count": 9
    }
   ],
   "source": [
    "len(ret_data[5]['stimulations'][0]['spikes'])"
   ]
  },
  {
   "cell_type": "code",
   "execution_count": 10,
   "metadata": {},
   "outputs": [
    {
     "output_type": "execute_result",
     "data": {
      "text/plain": [
       "(57, 1)"
      ]
     },
     "metadata": {},
     "execution_count": 10
    }
   ],
   "source": [
    "ret_data[5]['stimulations'][0]['spikes'][6].shape"
   ]
  },
  {
   "source": [
    "---"
   ],
   "cell_type": "markdown",
   "metadata": {}
  },
  {
   "cell_type": "code",
   "execution_count": 30,
   "metadata": {},
   "outputs": [
    {
     "output_type": "stream",
     "name": "stdout",
     "text": [
      "Stimulation Screen 640*480\nStimulation Block 2*480\nMovie n_frames 4156 FPS 60.005, so movie time is 69.2609?\nPixel size on retina 8.3\nOnset of the stimulus from the beginning of the recording session in seconds 1.3066\n"
     ]
    }
   ],
   "source": [
    "stimulation_example = ret_data[5]['stimulations'][0]\n",
    "print(\"Stimulation Screen {}*{}\".format(stimulation_example['stim_width'], stimulation_example['stim_height']))\n",
    "print(\"Stimulation Block {}*{}\".format(stimulation_example['x_block_size'], stimulation_example['y_block_size']))\n",
    "print(\"Movie n_frames {} FPS {}, so movie time is {}?\".format(stimulation_example['n_frames'], stimulation_example['fps'], round(stimulation_example['n_frames']/stimulation_example['fps'], 4)))\n",
    "print(\"Pixel size on retina {}\".format(stimulation_example['pixel_size']))\n",
    "print(\"Onset of the stimulus from the beginning of the recording session in seconds {}\".format(stimulation_example['stimulus_onset']))"
   ]
  },
  {
   "cell_type": "code",
   "execution_count": 24,
   "metadata": {},
   "outputs": [
    {
     "output_type": "stream",
     "name": "stdout",
     "text": [
      "(225, 1)\n(557, 1)\n(431, 1)\n(534, 1)\n(858, 1)\n(37, 1)\n(57, 1)\n(25, 1)\n(2157, 1)\n(74, 1)\n(181, 1)\n(436, 1)\n5572\n"
     ]
    }
   ],
   "source": [
    "total = 0\n",
    "for spike in stimulation_example['spikes']:\n",
    "    x, y = spike.shape\n",
    "    print(spike.shape)\n",
    "    total += x\n",
    "print(total)"
   ]
  },
  {
   "cell_type": "code",
   "execution_count": 27,
   "metadata": {},
   "outputs": [
    {
     "output_type": "stream",
     "name": "stdout",
     "text": [
      "[[ 1.4401]\n [ 1.4461]\n [ 1.454 ]\n [ 1.4577]\n [ 1.4689]\n [ 1.4704]\n [ 1.5422]\n [ 1.5653]\n [ 7.7577]\n [ 7.7622]\n [ 7.7672]\n [ 7.7739]\n [ 7.7862]\n [12.9112]\n [12.9156]\n [35.2156]\n [35.2206]\n [35.2266]\n [35.2322]\n [35.2586]\n [47.8697]\n [47.8745]\n [47.885 ]\n [47.8907]\n [47.8965]\n [60.8873]\n [60.8945]\n [60.9002]\n [60.9073]\n [60.9137]\n [66.4469]\n [66.4513]\n [66.4561]\n [66.4753]\n [66.4817]\n [67.4754]\n [67.4818]]\n[[ 1.4129]\n [ 1.4187]\n [ 1.424 ]\n [ 1.4329]\n [ 1.4375]\n [ 1.4421]\n [ 1.4517]\n [ 1.4588]\n [ 1.4658]\n [ 1.4869]\n [ 1.4978]\n [ 1.5085]\n [ 1.5149]\n [ 1.5224]\n [ 1.5343]\n [ 1.6265]\n [ 1.6336]\n [ 1.6502]\n [ 1.6899]\n [ 1.7444]\n [ 1.7826]\n [ 1.8342]\n [ 1.8405]\n [ 1.8826]\n [ 1.9332]\n [ 3.9887]\n [ 4.5814]\n [ 4.6262]\n [ 4.6338]\n [ 5.6399]\n [ 9.3334]\n [ 9.8015]\n [ 9.8078]\n [ 9.8187]\n [ 9.8348]\n [10.1544]\n [10.1838]\n [11.9258]\n [13.8292]\n [13.8732]\n [17.4522]\n [17.4608]\n [21.9343]\n [22.572 ]\n [22.612 ]\n [25.5967]\n [28.1401]\n [28.8989]\n [30.713 ]\n [32.5648]\n [32.5848]\n [42.2101]\n [42.2207]\n [46.2508]\n [47.6981]\n [55.234 ]\n [64.0534]]\n[[ 1.4269]\n [ 1.4409]\n [ 1.4503]\n [ 1.4561]\n [ 1.4695]\n [ 1.4763]\n [ 1.4831]\n [ 1.513 ]\n [ 3.0018]\n [ 4.6295]\n [ 4.6354]\n [ 4.652 ]\n [15.0312]\n [42.2238]\n [42.2364]\n [42.244 ]\n [46.2677]\n [46.3105]\n [47.7054]\n [47.7265]\n [47.7349]\n [64.0564]\n [64.0635]\n [64.0688]\n [66.9111]]\n"
     ]
    }
   ],
   "source": [
    "print(stimulation_example['spikes'][5])\n",
    "print(stimulation_example['spikes'][6])\n",
    "print(stimulation_example['spikes'][7])"
   ]
  },
  {
   "cell_type": "code",
   "execution_count": null,
   "metadata": {},
   "outputs": [],
   "source": []
  }
 ]
}