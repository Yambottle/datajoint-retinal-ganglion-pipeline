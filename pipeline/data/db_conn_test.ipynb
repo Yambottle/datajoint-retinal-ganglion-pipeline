{
 "metadata": {
  "language_info": {
   "codemirror_mode": {
    "name": "ipython",
    "version": 3
   },
   "file_extension": ".py",
   "mimetype": "text/x-python",
   "name": "python",
   "nbconvert_exporter": "python",
   "pygments_lexer": "ipython3",
   "version": "3.6.13"
  },
  "orig_nbformat": 2,
  "kernelspec": {
   "name": "python3613jvsc74a57bd0c446f6aef876dd571a1952a54800bfdf00c38847d9e5a1717373ac094687b1c7",
   "display_name": "Python 3.6.13 64-bit ('datajoint': conda)"
  },
  "metadata": {
   "interpreter": {
    "hash": "c446f6aef876dd571a1952a54800bfdf00c38847d9e5a1717373ac094687b1c7"
   }
  }
 },
 "nbformat": 4,
 "nbformat_minor": 2,
 "cells": [
  {
   "cell_type": "code",
   "execution_count": 1,
   "metadata": {},
   "outputs": [],
   "source": [
    "import datajoint as dj"
   ]
  },
  {
   "cell_type": "code",
   "execution_count": 2,
   "metadata": {},
   "outputs": [
    {
     "output_type": "stream",
     "name": "stdout",
     "text": [
      "Connecting drewyang@tutorial-db.datajoint.io:3306\n"
     ]
    },
    {
     "output_type": "execute_result",
     "data": {
      "text/plain": [
       "DataJoint connection (connected) drewyang@tutorial-db.datajoint.io:3306"
      ]
     },
     "metadata": {},
     "execution_count": 2
    }
   ],
   "source": [
    "dj.config['database.host'] = \"tutorial-db.datajoint.io\"\n",
    "dj.config['database.user'] =  'drewyang'\n",
    "dj.config['database.password'] = ''\n",
    "dj.conn()"
   ]
  },
  {
   "cell_type": "code",
   "execution_count": null,
   "metadata": {},
   "outputs": [],
   "source": []
  }
 ]
}